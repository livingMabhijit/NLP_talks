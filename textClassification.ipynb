{
  "nbformat": 4,
  "nbformat_minor": 0,
  "metadata": {
    "colab": {
      "name": "textClassification.ipynb",
      "provenance": [],
      "collapsed_sections": [],
      "authorship_tag": "ABX9TyMIll3yEW1Ttw17mZQ4kgFh",
      "include_colab_link": true
    },
    "kernelspec": {
      "name": "python3",
      "display_name": "Python 3"
    },
    "accelerator": "GPU"
  },
  "cells": [
    {
      "cell_type": "markdown",
      "metadata": {
        "id": "view-in-github",
        "colab_type": "text"
      },
      "source": [
        "<a href=\"https://colab.research.google.com/github/livingMabhijit/NLP_talks/blob/master/textClassification.ipynb\" target=\"_parent\"><img src=\"https://colab.research.google.com/assets/colab-badge.svg\" alt=\"Open In Colab\"/></a>"
      ]
    },
    {
      "cell_type": "markdown",
      "metadata": {
        "id": "-W1NJkuS7Kf8",
        "colab_type": "text"
      },
      "source": [
        "Here is an example of multinomial naive bayes implimantation for text classification. Have a look."
      ]
    },
    {
      "cell_type": "markdown",
      "metadata": {
        "id": "6xVF3t1U7Y77",
        "colab_type": "text"
      },
      "source": [
        "Here we are gonna use 2onewsgroup for the corpus creation then we will do the word count, frequency analysis ans so on. "
      ]
    },
    {
      "cell_type": "code",
      "metadata": {
        "id": "thQFytd26-43",
        "colab_type": "code",
        "colab": {
          "base_uri": "https://localhost:8080/",
          "height": 88
        },
        "outputId": "81dd01da-bbbe-4d15-892d-76949e17216d"
      },
      "source": [
        "from sklearn.datasets import fetch_20newsgroups\n",
        "data = fetch_20newsgroups()\n",
        "print(data.target_names)"
      ],
      "execution_count": 3,
      "outputs": [
        {
          "output_type": "stream",
          "text": [
            "Downloading 20news dataset. This may take a few minutes.\n",
            "Downloading dataset from https://ndownloader.figshare.com/files/5975967 (14 MB)\n"
          ],
          "name": "stderr"
        },
        {
          "output_type": "stream",
          "text": [
            "['alt.atheism', 'comp.graphics', 'comp.os.ms-windows.misc', 'comp.sys.ibm.pc.hardware', 'comp.sys.mac.hardware', 'comp.windows.x', 'misc.forsale', 'rec.autos', 'rec.motorcycles', 'rec.sport.baseball', 'rec.sport.hockey', 'sci.crypt', 'sci.electronics', 'sci.med', 'sci.space', 'soc.religion.christian', 'talk.politics.guns', 'talk.politics.mideast', 'talk.politics.misc', 'talk.religion.misc']\n"
          ],
          "name": "stdout"
        }
      ]
    },
    {
      "cell_type": "code",
      "metadata": {
        "id": "ODX-KpGd78b7",
        "colab_type": "code",
        "colab": {
          "base_uri": "https://localhost:8080/",
          "height": 357
        },
        "outputId": "f433fd21-0408-45f8-ca31-349157521240"
      },
      "source": [
        "for topic in data.target_names:\n",
        "  print(topic)"
      ],
      "execution_count": 4,
      "outputs": [
        {
          "output_type": "stream",
          "text": [
            "alt.atheism\n",
            "comp.graphics\n",
            "comp.os.ms-windows.misc\n",
            "comp.sys.ibm.pc.hardware\n",
            "comp.sys.mac.hardware\n",
            "comp.windows.x\n",
            "misc.forsale\n",
            "rec.autos\n",
            "rec.motorcycles\n",
            "rec.sport.baseball\n",
            "rec.sport.hockey\n",
            "sci.crypt\n",
            "sci.electronics\n",
            "sci.med\n",
            "sci.space\n",
            "soc.religion.christian\n",
            "talk.politics.guns\n",
            "talk.politics.mideast\n",
            "talk.politics.misc\n",
            "talk.religion.misc\n"
          ],
          "name": "stdout"
        }
      ]
    },
    {
      "cell_type": "markdown",
      "metadata": {
        "id": "PSnMxo6l8iEe",
        "colab_type": "text"
      },
      "source": [
        "Here are the topics that all the documents are classified for. "
      ]
    },
    {
      "cell_type": "code",
      "metadata": {
        "id": "BhvbZZtF8eoD",
        "colab_type": "code",
        "colab": {}
      },
      "source": [
        "#just for simplicity lets take 5-6 target types for quick training and test..\n",
        "topic_types = ['alt.atheism', 'comp.os.ms-windows.misc', 'rec.autos','misc.forsale', 'sci.space', 'soc.religion.christian', 'talk.politics.mideast']\n",
        "train_set = fetch_20newsgroups(subset='train',categories=topic_types)\n",
        "test_set = fetch_20newsgroups(subset='test', categories=topic_types)"
      ],
      "execution_count": 7,
      "outputs": []
    },
    {
      "cell_type": "code",
      "metadata": {
        "id": "4JuFkh1r977_",
        "colab_type": "code",
        "colab": {
          "base_uri": "https://localhost:8080/",
          "height": 323
        },
        "outputId": "4d6b2ad5-b40e-4e92-8d8c-2542fbf45125"
      },
      "source": [
        "# let's have a look at the sample training data\n",
        "print(train_set.data[2])"
      ],
      "execution_count": 8,
      "outputs": [
        {
          "output_type": "stream",
          "text": [
            "From: frp@table.NSD.3Com.COM (Frank R. Pereira)\n",
            "Subject: Moving Sale\n",
            "Distribution: ba\n",
            "Organization: 3Com Corporation\n",
            "Lines: 10\n",
            "Nntp-Posting-Host: table.nsd.3com.com\n",
            "\n",
            "Moving Sale: Must sell before May 5:\n",
            "Futon:  high-end, oak, queen, like new -- $250\n",
            "Computer Desk:  roll-top, locks securely, like new -- $100\n",
            "Color TV:  13\", perfect cond., great for bedroom -- $50\t( ***SOLD)\n",
            "Coffee Tables/Dresser:  $40 or B.O.\n",
            "Lamps:  $10\n",
            "Make an offer!!\n",
            "\n",
            "Ask for Esther: 415/571-6062 eve\n",
            "\t\t408/736-0490 day\n",
            "\n"
          ],
          "name": "stdout"
        }
      ]
    },
    {
      "cell_type": "markdown",
      "metadata": {
        "id": "Oilt_teD-luE",
        "colab_type": "text"
      },
      "source": [
        "Ok, it's time to tokenize...so TFIDF here it comes..\n"
      ]
    },
    {
      "cell_type": "code",
      "metadata": {
        "id": "XoIX2WEz-b-r",
        "colab_type": "code",
        "colab": {}
      },
      "source": [
        "from sklearn.feature_extraction.text import TfidfVectorizer\n",
        "from sklearn.naive_bayes import MultinomialNB\n",
        "from sklearn.pipeline import make_pipeline\n",
        "model= make_pipeline(TfidfVectorizer(), MultinomialNB())\n",
        "model.fit(train_set.data,train_set.target)\n",
        "labels = model.predict(test_set.data)"
      ],
      "execution_count": 15,
      "outputs": []
    },
    {
      "cell_type": "markdown",
      "metadata": {
        "id": "MF3gtuZS_k9n",
        "colab_type": "text"
      },
      "source": [
        "Here I just created the model with tokens generated by TFIDF and fit the model to predict test data set data."
      ]
    },
    {
      "cell_type": "code",
      "metadata": {
        "id": "WkfWAIRf_j8V",
        "colab_type": "code",
        "colab": {
          "base_uri": "https://localhost:8080/",
          "height": 34
        },
        "outputId": "597ee47f-bfd1-4d9b-a8b0-dee210a6ae2a"
      },
      "source": [
        "#so just for your curiosity the label is a list with all the predicted type of the class.\n",
        "print(labels.data[1])"
      ],
      "execution_count": 16,
      "outputs": [
        {
          "output_type": "stream",
          "text": [
            "4\n"
          ],
          "name": "stdout"
        }
      ]
    },
    {
      "cell_type": "markdown",
      "metadata": {
        "id": "wtypGGsiAGnU",
        "colab_type": "text"
      },
      "source": [
        "Let's see how did our model has predicted by some evaluation matrix"
      ]
    },
    {
      "cell_type": "code",
      "metadata": {
        "id": "8QdiitBz_xeD",
        "colab_type": "code",
        "colab": {
          "base_uri": "https://localhost:8080/",
          "height": 136
        },
        "outputId": "3155dcfa-e1f1-4831-c513-9184e03695a8"
      },
      "source": [
        "from sklearn.metrics import confusion_matrix\n",
        "my_matrix = confusion_matrix(test_set.target,labels) \n",
        "print(my_matrix) "
      ],
      "execution_count": 17,
      "outputs": [
        {
          "output_type": "stream",
          "text": [
            "[[170   0   0   1   4 131  13]\n",
            " [  1 337   1  10  10  35   0]\n",
            " [  0   9 329  25   4  19   4]\n",
            " [  0   1   5 380   4   5   1]\n",
            " [  0   2   1   3 364  24   0]\n",
            " [  2   0   0   0   5 391   0]\n",
            " [  0   0   0   0   0  30 346]]\n"
          ],
          "name": "stdout"
        }
      ]
    },
    {
      "cell_type": "code",
      "metadata": {
        "id": "wwlQ4CtkAjr_",
        "colab_type": "code",
        "colab": {
          "base_uri": "https://localhost:8080/",
          "height": 403
        },
        "outputId": "feb0d4b1-da25-4004-f6da-f2e6fe6c5750"
      },
      "source": [
        "# hmmmmm.. let's make it little beautiful..by SEABORN!!\n",
        "import matplotlib.pyplot as plt\n",
        "import seaborn as sns\n",
        "sns.heatmap(my_matrix.T,square = True, annot=True, fmt='d',cbar=False,xticklabels=train_set.target_names,yticklabels=train_set.target_names)\n",
        "plt.xlabel('True Label')\n",
        "plt.ylabel(\"Predicted Label\")\n",
        "plt.show()"
      ],
      "execution_count": 20,
      "outputs": [
        {
          "output_type": "display_data",
          "data": {
            "image/png": "[encoded data removed]",
            "text/plain": [
              "<Figure size 432x288 with 1 Axes>"
            ]
          },
          "metadata": {
            "tags": [],
            "needs_background": "light"
          }
        }
      ]
    },
    {
      "cell_type": "markdown",
      "metadata": {
        "id": "OXsk1TJxBbqa",
        "colab_type": "text"
      },
      "source": [
        "Not that bad, but it could be better... with some other classifier though..."
      ]
    },
    {
      "cell_type": "code",
      "metadata": {
        "id": "RgSVV7S8BMFQ",
        "colab_type": "code",
        "colab": {}
      },
      "source": [
        "# so let's try some sentences to check how our model performing...\n",
        "def topic_predict(text, train = train_set, model = model):\n",
        "  prediction_text = model.predict([text])\n",
        "  return train_set.target_names[prediction_text[0]]"
      ],
      "execution_count": 21,
      "outputs": []
    },
    {
      "cell_type": "code",
      "metadata": {
        "id": "YXENZadYCcTl",
        "colab_type": "code",
        "colab": {
          "base_uri": "https://localhost:8080/",
          "height": 37
        },
        "outputId": "cf48837a-7ddd-4730-cfe4-0c32b6a18b7a"
      },
      "source": [
        "topic_predict('spacex recently sent an rocket to international space station ans make to back to earth')"
      ],
      "execution_count": 22,
      "outputs": [
        {
          "output_type": "execute_result",
          "data": {
            "application/vnd.google.colaboratory.intrinsic+json": {
              "type": "string"
            },
            "text/plain": [
              "'sci.space'"
            ]
          },
          "metadata": {
            "tags": []
          },
          "execution_count": 22
        }
      ]
    },
    {
      "cell_type": "code",
      "metadata": {
        "id": "2cuJk4JBCoXZ",
        "colab_type": "code",
        "colab": {
          "base_uri": "https://localhost:8080/",
          "height": 37
        },
        "outputId": "63d51262-f0e0-44ad-a271-141db9ef6a20"
      },
      "source": [
        "topic_predict('The mother of sheldon, marry is a big fan of jesus' )"
      ],
      "execution_count": 24,
      "outputs": [
        {
          "output_type": "execute_result",
          "data": {
            "application/vnd.google.colaboratory.intrinsic+json": {
              "type": "string"
            },
            "text/plain": [
              "'soc.religion.christian'"
            ]
          },
          "metadata": {
            "tags": []
          },
          "execution_count": 24
        }
      ]
    },
    {
      "cell_type": "code",
      "metadata": {
        "id": "K7z-ZyKDC5kI",
        "colab_type": "code",
        "colab": {
          "base_uri": "https://localhost:8080/",
          "height": 37
        },
        "outputId": "44c3a65b-1f38-4605-d7c1-5cbf8d41ddee"
      },
      "source": [
        "topic_predict('hey, you have to accept that, you got this apartment in a great price.')"
      ],
      "execution_count": 27,
      "outputs": [
        {
          "output_type": "execute_result",
          "data": {
            "application/vnd.google.colaboratory.intrinsic+json": {
              "type": "string"
            },
            "text/plain": [
              "'soc.religion.christian'"
            ]
          },
          "metadata": {
            "tags": []
          },
          "execution_count": 27
        }
      ]
    },
    {
      "cell_type": "code",
      "metadata": {
        "id": "Y-J0mn3sDIxX",
        "colab_type": "code",
        "colab": {
          "base_uri": "https://localhost:8080/",
          "height": 37
        },
        "outputId": "ee3ec70b-4004-40be-ab48-5010cc04abda"
      },
      "source": [
        "topic_predict('Modi is one of the best prime minister of india')"
      ],
      "execution_count": 33,
      "outputs": [
        {
          "output_type": "execute_result",
          "data": {
            "application/vnd.google.colaboratory.intrinsic+json": {
              "type": "string"
            },
            "text/plain": [
              "'talk.politics.mideast'"
            ]
          },
          "metadata": {
            "tags": []
          },
          "execution_count": 33
        }
      ]
    },
    {
      "cell_type": "code",
      "metadata": {
        "id": "gIKuKbJhDXDw",
        "colab_type": "code",
        "colab": {
          "base_uri": "https://localhost:8080/",
          "height": 37
        },
        "outputId": "2e78b5a1-dd79-4e87-f98b-65a1c34001a7"
      },
      "source": [
        "topic_predict('bill gates, such a amazing person for whom we can use excel and powerpoint')"
      ],
      "execution_count": 35,
      "outputs": [
        {
          "output_type": "execute_result",
          "data": {
            "application/vnd.google.colaboratory.intrinsic+json": {
              "type": "string"
            },
            "text/plain": [
              "'soc.religion.christian'"
            ]
          },
          "metadata": {
            "tags": []
          },
          "execution_count": 35
        }
      ]
    },
    {
      "cell_type": "code",
      "metadata": {
        "id": "ZPq1ZSg7D2MJ",
        "colab_type": "code",
        "colab": {
          "base_uri": "https://localhost:8080/",
          "height": 37
        },
        "outputId": "a9d6854f-be48-4ff5-af82-62a17e2e90ed"
      },
      "source": [
        "topic_predict('I prefer apple operating system that windows')"
      ],
      "execution_count": 36,
      "outputs": [
        {
          "output_type": "execute_result",
          "data": {
            "application/vnd.google.colaboratory.intrinsic+json": {
              "type": "string"
            },
            "text/plain": [
              "'comp.os.ms-windows.misc'"
            ]
          },
          "metadata": {
            "tags": []
          },
          "execution_count": 36
        }
      ]
    },
    {
      "cell_type": "markdown",
      "metadata": {
        "id": "cLHT_4FUEGzV",
        "colab_type": "text"
      },
      "source": [
        "As it's evident in some cases its performing bad as .... but yeah it's a simple implementation of text classification. But the corpus has to complete with the topic cluster so that you can build the custom classifer on the top of that corpus. Given sometimes these are domain specific,so remember that!!\n"
      ]
    },
    {
      "cell_type": "code",
      "metadata": {
        "id": "lemtluxzEEPA",
        "colab_type": "code",
        "colab": {}
      },
      "source": [
        ""
      ],
      "execution_count": null,
      "outputs": []
    }
  ]
}