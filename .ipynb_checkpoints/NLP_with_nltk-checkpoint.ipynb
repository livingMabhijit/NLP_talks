{
 "cells": [
  {
   "cell_type": "markdown",
   "metadata": {},
   "source": [
    "### NLTK is the most popular library for NLP so let's deep dive into it\n"
   ]
  },
  {
   "cell_type": "code",
   "execution_count": 1,
   "metadata": {},
   "outputs": [],
   "source": [
    "import nltk\n",
    "#nltk.download()"
   ]
  },
  {
   "cell_type": "code",
   "execution_count": 7,
   "metadata": {},
   "outputs": [],
   "source": [
    "paragraph = '''Artificial intelligence was founded as an academic discipline in 1955, and in the years since has experienced several waves of optimism, followed by disappointment and the loss of funding (known as an \"AI winter\"), followed by new approaches, success and renewed funding. For most of its history, AI research has been divided into sub-fields that often fail to communicate with each other. These sub-fields are based on technical considerations, such as particular goals (e.g. \"robotics\" or \"machine learning\"), the use of particular tools (\"logic\" or artificial neural networks), or deep philosophical differences. Sub-fields have also been based on social factors (particular institutions or the work of particular researchers).\n",
    "\n",
    "The traditional problems (or goals) of AI research include reasoning, knowledge representation, planning, learning, natural language processing, perception and the ability to move and manipulate objects. General intelligence is among the field's long-term goals. Approaches include statistical methods, computational intelligence, and traditional symbolic AI. Many tools are used in AI, including versions of search and mathematical optimization, artificial neural networks, and methods based on statistics, probability and economics. The AI field draws upon computer science, information engineering, mathematics, psychology, linguistics, philosophy, and many other fields.\n",
    "\n",
    "The field was founded on the assumption that human intelligence \"can be so precisely described that a machine can be made to simulate it\". This raises philosophical arguments about the nature of the mind and the ethics of creating artificial beings endowed with human-like intelligence. These issues have been explored by myth, fiction and philosophy since antiquity. Some people also consider AI to be a danger to humanity if it progresses unabated. Others believe that AI, unlike previous technological revolutions, will create a risk of mass unemployment.\n",
    "\n",
    "In the twenty-first century, AI techniques have experienced a resurgence following concurrent advances in computer power, large amounts of data, and theoretical understanding; and AI techniques have become an essential part of the technology industry, helping to solve many challenging problems in computer science, software engineering and operations research'''"
   ]
  },
  {
   "cell_type": "code",
   "execution_count": 8,
   "metadata": {},
   "outputs": [
    {
     "data": {
      "text/plain": [
       "'Artificial intelligence was founded as an academic discipline in 1955, and in the years since has experienced several waves of optimism, followed by disappointment and the loss of funding (known as an \"AI winter\"), followed by new approaches, success and renewed funding. For most of its history, AI research has been divided into sub-fields that often fail to communicate with each other. These sub-fields are based on technical considerations, such as particular goals (e.g. \"robotics\" or \"machine learning\"), the use of particular tools (\"logic\" or artificial neural networks), or deep philosophical differences. Sub-fields have also been based on social factors (particular institutions or the work of particular researchers).\\n\\nThe traditional problems (or goals) of AI research include reasoning, knowledge representation, planning, learning, natural language processing, perception and the ability to move and manipulate objects. General intelligence is among the field\\'s long-term goals. Approaches include statistical methods, computational intelligence, and traditional symbolic AI. Many tools are used in AI, including versions of search and mathematical optimization, artificial neural networks, and methods based on statistics, probability and economics. The AI field draws upon computer science, information engineering, mathematics, psychology, linguistics, philosophy, and many other fields.\\n\\nThe field was founded on the assumption that human intelligence \"can be so precisely described that a machine can be made to simulate it\". This raises philosophical arguments about the nature of the mind and the ethics of creating artificial beings endowed with human-like intelligence. These issues have been explored by myth, fiction and philosophy since antiquity. Some people also consider AI to be a danger to humanity if it progresses unabated. Others believe that AI, unlike previous technological revolutions, will create a risk of mass unemployment.\\n\\nIn the twenty-first century, AI techniques have experienced a resurgence following concurrent advances in computer power, large amounts of data, and theoretical understanding; and AI techniques have become an essential part of the technology industry, helping to solve many challenging problems in computer science, software engineering and operations research'"
      ]
     },
     "execution_count": 8,
     "metadata": {},
     "output_type": "execute_result"
    }
   ],
   "source": [
    "paragraph"
   ]
  },
  {
   "cell_type": "code",
   "execution_count": 9,
   "metadata": {},
   "outputs": [
    {
     "data": {
      "text/plain": [
       "['Artificial intelligence was founded as an academic discipline in 1955, and in the years since has experienced several waves of optimism, followed by disappointment and the loss of funding (known as an \"AI winter\"), followed by new approaches, success and renewed funding.',\n",
       " 'For most of its history, AI research has been divided into sub-fields that often fail to communicate with each other.',\n",
       " 'These sub-fields are based on technical considerations, such as particular goals (e.g.',\n",
       " '\"robotics\" or \"machine learning\"), the use of particular tools (\"logic\" or artificial neural networks), or deep philosophical differences.',\n",
       " 'Sub-fields have also been based on social factors (particular institutions or the work of particular researchers).',\n",
       " 'The traditional problems (or goals) of AI research include reasoning, knowledge representation, planning, learning, natural language processing, perception and the ability to move and manipulate objects.',\n",
       " \"General intelligence is among the field's long-term goals.\",\n",
       " 'Approaches include statistical methods, computational intelligence, and traditional symbolic AI.',\n",
       " 'Many tools are used in AI, including versions of search and mathematical optimization, artificial neural networks, and methods based on statistics, probability and economics.',\n",
       " 'The AI field draws upon computer science, information engineering, mathematics, psychology, linguistics, philosophy, and many other fields.',\n",
       " 'The field was founded on the assumption that human intelligence \"can be so precisely described that a machine can be made to simulate it\".',\n",
       " 'This raises philosophical arguments about the nature of the mind and the ethics of creating artificial beings endowed with human-like intelligence.',\n",
       " 'These issues have been explored by myth, fiction and philosophy since antiquity.',\n",
       " 'Some people also consider AI to be a danger to humanity if it progresses unabated.',\n",
       " 'Others believe that AI, unlike previous technological revolutions, will create a risk of mass unemployment.',\n",
       " 'In the twenty-first century, AI techniques have experienced a resurgence following concurrent advances in computer power, large amounts of data, and theoretical understanding; and AI techniques have become an essential part of the technology industry, helping to solve many challenging problems in computer science, software engineering and operations research']"
      ]
     },
     "execution_count": 9,
     "metadata": {},
     "output_type": "execute_result"
    }
   ],
   "source": [
    "sentences = nltk.sent_tokenize(paragraph)\n",
    "sentences"
   ]
  },
  {
   "cell_type": "code",
   "execution_count": 10,
   "metadata": {},
   "outputs": [
    {
     "data": {
      "text/plain": [
       "['Artificial',\n",
       " 'intelligence',\n",
       " 'was',\n",
       " 'founded',\n",
       " 'as',\n",
       " 'an',\n",
       " 'academic',\n",
       " 'discipline',\n",
       " 'in',\n",
       " '1955',\n",
       " ',',\n",
       " 'and',\n",
       " 'in',\n",
       " 'the',\n",
       " 'years',\n",
       " 'since',\n",
       " 'has',\n",
       " 'experienced',\n",
       " 'several',\n",
       " 'waves',\n",
       " 'of',\n",
       " 'optimism',\n",
       " ',',\n",
       " 'followed',\n",
       " 'by',\n",
       " 'disappointment',\n",
       " 'and',\n",
       " 'the',\n",
       " 'loss',\n",
       " 'of',\n",
       " 'funding',\n",
       " '(',\n",
       " 'known',\n",
       " 'as',\n",
       " 'an',\n",
       " '``',\n",
       " 'AI',\n",
       " 'winter',\n",
       " \"''\",\n",
       " ')',\n",
       " ',',\n",
       " 'followed',\n",
       " 'by',\n",
       " 'new',\n",
       " 'approaches',\n",
       " ',',\n",
       " 'success',\n",
       " 'and',\n",
       " 'renewed',\n",
       " 'funding',\n",
       " '.',\n",
       " 'For',\n",
       " 'most',\n",
       " 'of',\n",
       " 'its',\n",
       " 'history',\n",
       " ',',\n",
       " 'AI',\n",
       " 'research',\n",
       " 'has',\n",
       " 'been',\n",
       " 'divided',\n",
       " 'into',\n",
       " 'sub-fields',\n",
       " 'that',\n",
       " 'often',\n",
       " 'fail',\n",
       " 'to',\n",
       " 'communicate',\n",
       " 'with',\n",
       " 'each',\n",
       " 'other',\n",
       " '.',\n",
       " 'These',\n",
       " 'sub-fields',\n",
       " 'are',\n",
       " 'based',\n",
       " 'on',\n",
       " 'technical',\n",
       " 'considerations',\n",
       " ',',\n",
       " 'such',\n",
       " 'as',\n",
       " 'particular',\n",
       " 'goals',\n",
       " '(',\n",
       " 'e.g',\n",
       " '.',\n",
       " '``',\n",
       " 'robotics',\n",
       " \"''\",\n",
       " 'or',\n",
       " '``',\n",
       " 'machine',\n",
       " 'learning',\n",
       " \"''\",\n",
       " ')',\n",
       " ',',\n",
       " 'the',\n",
       " 'use',\n",
       " 'of',\n",
       " 'particular',\n",
       " 'tools',\n",
       " '(',\n",
       " '``',\n",
       " 'logic',\n",
       " \"''\",\n",
       " 'or',\n",
       " 'artificial',\n",
       " 'neural',\n",
       " 'networks',\n",
       " ')',\n",
       " ',',\n",
       " 'or',\n",
       " 'deep',\n",
       " 'philosophical',\n",
       " 'differences',\n",
       " '.',\n",
       " 'Sub-fields',\n",
       " 'have',\n",
       " 'also',\n",
       " 'been',\n",
       " 'based',\n",
       " 'on',\n",
       " 'social',\n",
       " 'factors',\n",
       " '(',\n",
       " 'particular',\n",
       " 'institutions',\n",
       " 'or',\n",
       " 'the',\n",
       " 'work',\n",
       " 'of',\n",
       " 'particular',\n",
       " 'researchers',\n",
       " ')',\n",
       " '.',\n",
       " 'The',\n",
       " 'traditional',\n",
       " 'problems',\n",
       " '(',\n",
       " 'or',\n",
       " 'goals',\n",
       " ')',\n",
       " 'of',\n",
       " 'AI',\n",
       " 'research',\n",
       " 'include',\n",
       " 'reasoning',\n",
       " ',',\n",
       " 'knowledge',\n",
       " 'representation',\n",
       " ',',\n",
       " 'planning',\n",
       " ',',\n",
       " 'learning',\n",
       " ',',\n",
       " 'natural',\n",
       " 'language',\n",
       " 'processing',\n",
       " ',',\n",
       " 'perception',\n",
       " 'and',\n",
       " 'the',\n",
       " 'ability',\n",
       " 'to',\n",
       " 'move',\n",
       " 'and',\n",
       " 'manipulate',\n",
       " 'objects',\n",
       " '.',\n",
       " 'General',\n",
       " 'intelligence',\n",
       " 'is',\n",
       " 'among',\n",
       " 'the',\n",
       " 'field',\n",
       " \"'s\",\n",
       " 'long-term',\n",
       " 'goals',\n",
       " '.',\n",
       " 'Approaches',\n",
       " 'include',\n",
       " 'statistical',\n",
       " 'methods',\n",
       " ',',\n",
       " 'computational',\n",
       " 'intelligence',\n",
       " ',',\n",
       " 'and',\n",
       " 'traditional',\n",
       " 'symbolic',\n",
       " 'AI',\n",
       " '.',\n",
       " 'Many',\n",
       " 'tools',\n",
       " 'are',\n",
       " 'used',\n",
       " 'in',\n",
       " 'AI',\n",
       " ',',\n",
       " 'including',\n",
       " 'versions',\n",
       " 'of',\n",
       " 'search',\n",
       " 'and',\n",
       " 'mathematical',\n",
       " 'optimization',\n",
       " ',',\n",
       " 'artificial',\n",
       " 'neural',\n",
       " 'networks',\n",
       " ',',\n",
       " 'and',\n",
       " 'methods',\n",
       " 'based',\n",
       " 'on',\n",
       " 'statistics',\n",
       " ',',\n",
       " 'probability',\n",
       " 'and',\n",
       " 'economics',\n",
       " '.',\n",
       " 'The',\n",
       " 'AI',\n",
       " 'field',\n",
       " 'draws',\n",
       " 'upon',\n",
       " 'computer',\n",
       " 'science',\n",
       " ',',\n",
       " 'information',\n",
       " 'engineering',\n",
       " ',',\n",
       " 'mathematics',\n",
       " ',',\n",
       " 'psychology',\n",
       " ',',\n",
       " 'linguistics',\n",
       " ',',\n",
       " 'philosophy',\n",
       " ',',\n",
       " 'and',\n",
       " 'many',\n",
       " 'other',\n",
       " 'fields',\n",
       " '.',\n",
       " 'The',\n",
       " 'field',\n",
       " 'was',\n",
       " 'founded',\n",
       " 'on',\n",
       " 'the',\n",
       " 'assumption',\n",
       " 'that',\n",
       " 'human',\n",
       " 'intelligence',\n",
       " '``',\n",
       " 'can',\n",
       " 'be',\n",
       " 'so',\n",
       " 'precisely',\n",
       " 'described',\n",
       " 'that',\n",
       " 'a',\n",
       " 'machine',\n",
       " 'can',\n",
       " 'be',\n",
       " 'made',\n",
       " 'to',\n",
       " 'simulate',\n",
       " 'it',\n",
       " \"''\",\n",
       " '.',\n",
       " 'This',\n",
       " 'raises',\n",
       " 'philosophical',\n",
       " 'arguments',\n",
       " 'about',\n",
       " 'the',\n",
       " 'nature',\n",
       " 'of',\n",
       " 'the',\n",
       " 'mind',\n",
       " 'and',\n",
       " 'the',\n",
       " 'ethics',\n",
       " 'of',\n",
       " 'creating',\n",
       " 'artificial',\n",
       " 'beings',\n",
       " 'endowed',\n",
       " 'with',\n",
       " 'human-like',\n",
       " 'intelligence',\n",
       " '.',\n",
       " 'These',\n",
       " 'issues',\n",
       " 'have',\n",
       " 'been',\n",
       " 'explored',\n",
       " 'by',\n",
       " 'myth',\n",
       " ',',\n",
       " 'fiction',\n",
       " 'and',\n",
       " 'philosophy',\n",
       " 'since',\n",
       " 'antiquity',\n",
       " '.',\n",
       " 'Some',\n",
       " 'people',\n",
       " 'also',\n",
       " 'consider',\n",
       " 'AI',\n",
       " 'to',\n",
       " 'be',\n",
       " 'a',\n",
       " 'danger',\n",
       " 'to',\n",
       " 'humanity',\n",
       " 'if',\n",
       " 'it',\n",
       " 'progresses',\n",
       " 'unabated',\n",
       " '.',\n",
       " 'Others',\n",
       " 'believe',\n",
       " 'that',\n",
       " 'AI',\n",
       " ',',\n",
       " 'unlike',\n",
       " 'previous',\n",
       " 'technological',\n",
       " 'revolutions',\n",
       " ',',\n",
       " 'will',\n",
       " 'create',\n",
       " 'a',\n",
       " 'risk',\n",
       " 'of',\n",
       " 'mass',\n",
       " 'unemployment',\n",
       " '.',\n",
       " 'In',\n",
       " 'the',\n",
       " 'twenty-first',\n",
       " 'century',\n",
       " ',',\n",
       " 'AI',\n",
       " 'techniques',\n",
       " 'have',\n",
       " 'experienced',\n",
       " 'a',\n",
       " 'resurgence',\n",
       " 'following',\n",
       " 'concurrent',\n",
       " 'advances',\n",
       " 'in',\n",
       " 'computer',\n",
       " 'power',\n",
       " ',',\n",
       " 'large',\n",
       " 'amounts',\n",
       " 'of',\n",
       " 'data',\n",
       " ',',\n",
       " 'and',\n",
       " 'theoretical',\n",
       " 'understanding',\n",
       " ';',\n",
       " 'and',\n",
       " 'AI',\n",
       " 'techniques',\n",
       " 'have',\n",
       " 'become',\n",
       " 'an',\n",
       " 'essential',\n",
       " 'part',\n",
       " 'of',\n",
       " 'the',\n",
       " 'technology',\n",
       " 'industry',\n",
       " ',',\n",
       " 'helping',\n",
       " 'to',\n",
       " 'solve',\n",
       " 'many',\n",
       " 'challenging',\n",
       " 'problems',\n",
       " 'in',\n",
       " 'computer',\n",
       " 'science',\n",
       " ',',\n",
       " 'software',\n",
       " 'engineering',\n",
       " 'and',\n",
       " 'operations',\n",
       " 'research']"
      ]
     },
     "execution_count": 10,
     "metadata": {},
     "output_type": "execute_result"
    }
   ],
   "source": [
    "words = nltk.word_tokenize(paragraph)\n",
    "words"
   ]
  },
  {
   "cell_type": "code",
   "execution_count": 11,
   "metadata": {},
   "outputs": [],
   "source": [
    "from nltk.stem import PorterStemmer\n",
    "from nltk.corpus import stopwords"
   ]
  },
  {
   "cell_type": "code",
   "execution_count": 12,
   "metadata": {},
   "outputs": [
    {
     "data": {
      "text/plain": [
       "['Artificial intelligence was founded as an academic discipline in 1955, and in the years since has experienced several waves of optimism, followed by disappointment and the loss of funding (known as an \"AI winter\"), followed by new approaches, success and renewed funding.',\n",
       " 'For most of its history, AI research has been divided into sub-fields that often fail to communicate with each other.',\n",
       " 'These sub-fields are based on technical considerations, such as particular goals (e.g.',\n",
       " '\"robotics\" or \"machine learning\"), the use of particular tools (\"logic\" or artificial neural networks), or deep philosophical differences.',\n",
       " 'Sub-fields have also been based on social factors (particular institutions or the work of particular researchers).',\n",
       " 'The traditional problems (or goals) of AI research include reasoning, knowledge representation, planning, learning, natural language processing, perception and the ability to move and manipulate objects.',\n",
       " \"General intelligence is among the field's long-term goals.\",\n",
       " 'Approaches include statistical methods, computational intelligence, and traditional symbolic AI.',\n",
       " 'Many tools are used in AI, including versions of search and mathematical optimization, artificial neural networks, and methods based on statistics, probability and economics.',\n",
       " 'The AI field draws upon computer science, information engineering, mathematics, psychology, linguistics, philosophy, and many other fields.',\n",
       " 'The field was founded on the assumption that human intelligence \"can be so precisely described that a machine can be made to simulate it\".',\n",
       " 'This raises philosophical arguments about the nature of the mind and the ethics of creating artificial beings endowed with human-like intelligence.',\n",
       " 'These issues have been explored by myth, fiction and philosophy since antiquity.',\n",
       " 'Some people also consider AI to be a danger to humanity if it progresses unabated.',\n",
       " 'Others believe that AI, unlike previous technological revolutions, will create a risk of mass unemployment.',\n",
       " 'In the twenty-first century, AI techniques have experienced a resurgence following concurrent advances in computer power, large amounts of data, and theoretical understanding; and AI techniques have become an essential part of the technology industry, helping to solve many challenging problems in computer science, software engineering and operations research']"
      ]
     },
     "execution_count": 12,
     "metadata": {},
     "output_type": "execute_result"
    }
   ],
   "source": [
    "sentence = nltk.sent_tokenize(paragraph)\n",
    "sentence"
   ]
  },
  {
   "cell_type": "code",
   "execution_count": 14,
   "metadata": {},
   "outputs": [
    {
     "data": {
      "text/plain": [
       "['artifici intellig found academ disciplin 1955 , year sinc experienc sever wave optim , follow disappoint loss fund ( known `` AI winter `` ) , follow new approach , success renew fund .',\n",
       " 'histori , AI research divid sub-field often fail commun .',\n",
       " 'sub-field base technic consid , particular goal ( e.g .',\n",
       " '`` robot `` `` machin learn `` ) , use particular tool ( `` logic `` artifici neural network ) , deep philosoph differ .',\n",
       " 'sub-field also base social factor ( particular institut work particular research ) .',\n",
       " 'tradit problem ( goal ) AI research includ reason , knowledg repres , plan , learn , natur languag process , percept abil move manipul object .',\n",
       " \"gener intellig among field 's long-term goal .\",\n",
       " 'approach includ statist method , comput intellig , tradit symbol AI .',\n",
       " 'mani tool use AI , includ version search mathemat optim , artifici neural network , method base statist , probabl econom .',\n",
       " 'AI field draw upon comput scienc , inform engin , mathemat , psycholog , linguist , philosophi , mani field .',\n",
       " 'field found assumpt human intellig `` preci describ machin made simul `` .',\n",
       " 'thi rai philosoph argument natur mind ethic creat artifici endow human-lik intellig .',\n",
       " 'issu explor myth , fiction philosophi sinc antiqu .',\n",
       " 'peopl also consid AI danger human progress unab .',\n",
       " 'believ AI , unlik previou technolog revolut , creat risk mass unemploy .',\n",
       " 'In twenty-first centuri , AI techniqu experienc resurg follow concurr advanc comput power , larg amount data , theoret understand ; AI techniqu becom essenti part technolog industri , help solv mani challeng problem comput scienc , softwar engin oper research']"
      ]
     },
     "execution_count": 14,
     "metadata": {},
     "output_type": "execute_result"
    }
   ],
   "source": [
    "#stemming\n",
    "#It's a helping library to making the text simple like go,going,goes can be stemmed to 'go'. I think you can see where I'm going with it.\n",
    "stemmer = PorterStemmer()\n",
    "for i in range(len(sentence)):\n",
    "    words = nltk.word_tokenize(sentence[i])\n",
    "    words = [stemmer.stem(word) for word in words if word not in set(stopwords.words('english'))]\n",
    "    sentence[i]=' '.join(words)\n",
    "sentence"
   ]
  },
  {
   "cell_type": "markdown",
   "metadata": {},
   "source": [
    "### so here you can see, the words has been changed but the meaning is really messed up... so Lemmitization came to light.so Let's have a look at that.."
   ]
  },
  {
   "cell_type": "code",
   "execution_count": 18,
   "metadata": {},
   "outputs": [],
   "source": [
    "#lemitization\n",
    "#It's much better than stemming because it brings the word to the basic form keeping the meaning intact."
   ]
  },
  {
   "cell_type": "code",
   "execution_count": 22,
   "metadata": {},
   "outputs": [
    {
     "data": {
      "text/plain": [
       "['Artificial intelligence was founded as an academic discipline in 1955, and in the years since has experienced several waves of optimism, followed by disappointment and the loss of funding (known as an \"AI winter\"), followed by new approaches, success and renewed funding.',\n",
       " 'For most of its history, AI research has been divided into sub-fields that often fail to communicate with each other.',\n",
       " 'These sub-fields are based on technical considerations, such as particular goals (e.g.',\n",
       " '\"robotics\" or \"machine learning\"), the use of particular tools (\"logic\" or artificial neural networks), or deep philosophical differences.',\n",
       " 'Sub-fields have also been based on social factors (particular institutions or the work of particular researchers).',\n",
       " 'The traditional problems (or goals) of AI research include reasoning, knowledge representation, planning, learning, natural language processing, perception and the ability to move and manipulate objects.',\n",
       " \"General intelligence is among the field's long-term goals.\",\n",
       " 'Approaches include statistical methods, computational intelligence, and traditional symbolic AI.',\n",
       " 'Many tools are used in AI, including versions of search and mathematical optimization, artificial neural networks, and methods based on statistics, probability and economics.',\n",
       " 'The AI field draws upon computer science, information engineering, mathematics, psychology, linguistics, philosophy, and many other fields.',\n",
       " 'The field was founded on the assumption that human intelligence \"can be so precisely described that a machine can be made to simulate it\".',\n",
       " 'This raises philosophical arguments about the nature of the mind and the ethics of creating artificial beings endowed with human-like intelligence.',\n",
       " 'These issues have been explored by myth, fiction and philosophy since antiquity.',\n",
       " 'Some people also consider AI to be a danger to humanity if it progresses unabated.',\n",
       " 'Others believe that AI, unlike previous technological revolutions, will create a risk of mass unemployment.',\n",
       " 'In the twenty-first century, AI techniques have experienced a resurgence following concurrent advances in computer power, large amounts of data, and theoretical understanding; and AI techniques have become an essential part of the technology industry, helping to solve many challenging problems in computer science, software engineering and operations research']"
      ]
     },
     "execution_count": 22,
     "metadata": {},
     "output_type": "execute_result"
    }
   ],
   "source": [
    "from nltk.stem import WordNetLemmatizer\n",
    "from nltk.corpus import stopwords\n",
    "sentence = nltk.sent_tokenize(paragraph)\n",
    "sentence"
   ]
  },
  {
   "cell_type": "code",
   "execution_count": 23,
   "metadata": {},
   "outputs": [
    {
     "data": {
      "text/plain": [
       "[\"Artificial intelligence founded academic discipline 1955 , year since experienced several wave optimism , followed disappointment loss funding ( known `` AI winter '' ) , followed new approach , success renewed funding .\",\n",
       " 'For history , AI research divided sub-fields often fail communicate .',\n",
       " 'These sub-fields based technical consideration , particular goal ( e.g .',\n",
       " \"`` robotics '' `` machine learning '' ) , use particular tool ( `` logic '' artificial neural network ) , deep philosophical difference .\",\n",
       " 'Sub-fields also based social factor ( particular institution work particular researcher ) .',\n",
       " 'The traditional problem ( goal ) AI research include reasoning , knowledge representation , planning , learning , natural language processing , perception ability move manipulate object .',\n",
       " \"General intelligence among field 's long-term goal .\",\n",
       " 'Approaches include statistical method , computational intelligence , traditional symbolic AI .',\n",
       " 'Many tool used AI , including version search mathematical optimization , artificial neural network , method based statistic , probability economics .',\n",
       " 'The AI field draw upon computer science , information engineering , mathematics , psychology , linguistics , philosophy , many field .',\n",
       " \"The field founded assumption human intelligence `` precisely described machine made simulate '' .\",\n",
       " 'This raise philosophical argument nature mind ethic creating artificial being endowed human-like intelligence .',\n",
       " 'These issue explored myth , fiction philosophy since antiquity .',\n",
       " 'Some people also consider AI danger humanity progress unabated .',\n",
       " 'Others believe AI , unlike previous technological revolution , create risk mass unemployment .',\n",
       " 'In twenty-first century , AI technique experienced resurgence following concurrent advance computer power , large amount data , theoretical understanding ; AI technique become essential part technology industry , helping solve many challenging problem computer science , software engineering operation research']"
      ]
     },
     "execution_count": 23,
     "metadata": {},
     "output_type": "execute_result"
    }
   ],
   "source": [
    "lemmatizer = WordNetLemmatizer()\n",
    "for i in range(len(sentence)):\n",
    "    words = nltk.word_tokenize(sentence[i])\n",
    "    words = [lemmatizer.lemmatize(word) for word in words if word not in set(stopwords.words('english'))]\n",
    "    sentence[i]=' '.join(words)\n",
    "sentence"
   ]
  },
  {
   "cell_type": "markdown",
   "metadata": {},
   "source": [
    "### As you can see now our text is filtered without stopwords and the words are also meaningful unlike last method."
   ]
  },
  {
   "cell_type": "markdown",
   "metadata": {},
   "source": [
    "# So let's have a look at another technique \"Bag of words\""
   ]
  },
  {
   "cell_type": "markdown",
   "metadata": {},
   "source": [
    "### Here are some sentences\n",
    "\n",
    "    The restaurant is good but ambience is not what I expected after looking at the given photos.\n",
    "    He is a nice guy, I have known him from four years\n",
    "    What rubbish, This is not even a web series and they call it movie!!!"
   ]
  },
  {
   "cell_type": "markdown",
   "metadata": {},
   "source": [
    "### Let's stick to our paragraph"
   ]
  },
  {
   "cell_type": "code",
   "execution_count": 26,
   "metadata": {},
   "outputs": [
    {
     "data": {
      "text/plain": [
       "'Artificial intelligence was founded as an academic discipline in 1955, and in the years since has experienced several waves of optimism, followed by disappointment and the loss of funding (known as an \"AI winter\"), followed by new approaches, success and renewed funding. For most of its history, AI research has been divided into sub-fields that often fail to communicate with each other. These sub-fields are based on technical considerations, such as particular goals (e.g. \"robotics\" or \"machine learning\"), the use of particular tools (\"logic\" or artificial neural networks), or deep philosophical differences. Sub-fields have also been based on social factors (particular institutions or the work of particular researchers).\\n\\nThe traditional problems (or goals) of AI research include reasoning, knowledge representation, planning, learning, natural language processing, perception and the ability to move and manipulate objects. General intelligence is among the field\\'s long-term goals. Approaches include statistical methods, computational intelligence, and traditional symbolic AI. Many tools are used in AI, including versions of search and mathematical optimization, artificial neural networks, and methods based on statistics, probability and economics. The AI field draws upon computer science, information engineering, mathematics, psychology, linguistics, philosophy, and many other fields.\\n\\nThe field was founded on the assumption that human intelligence \"can be so precisely described that a machine can be made to simulate it\". This raises philosophical arguments about the nature of the mind and the ethics of creating artificial beings endowed with human-like intelligence. These issues have been explored by myth, fiction and philosophy since antiquity. Some people also consider AI to be a danger to humanity if it progresses unabated. Others believe that AI, unlike previous technological revolutions, will create a risk of mass unemployment.\\n\\nIn the twenty-first century, AI techniques have experienced a resurgence following concurrent advances in computer power, large amounts of data, and theoretical understanding; and AI techniques have become an essential part of the technology industry, helping to solve many challenging problems in computer science, software engineering and operations research'"
      ]
     },
     "execution_count": 26,
     "metadata": {},
     "output_type": "execute_result"
    }
   ],
   "source": [
    "import nltk\n",
    "paragraph"
   ]
  },
  {
   "cell_type": "code",
   "execution_count": 27,
   "metadata": {},
   "outputs": [],
   "source": [
    "### Let's clean little bit"
   ]
  },
  {
   "cell_type": "code",
   "execution_count": 32,
   "metadata": {},
   "outputs": [],
   "source": [
    "import re\n",
    "from nltk.corpus import stopwords\n",
    "from nltk.stem import WordNetLemmatizer\n",
    "from nltk.stem import PorterStemmer\n",
    "\n",
    "ps = PorterStemmer()\n",
    "lem = WordNetLemmatizer()\n",
    "sentences = nltk.sent_tokenize(paragraph)\n",
    "corpus = []\n",
    "for i in range(len(sentences)):\n",
    "    sent = re.sub('[^a-zA-Z]',' ',sentences[i])\n",
    "    sent = sent.lower()\n",
    "    sent = sent.split()\n",
    "#     sent = [ps.stem(word)for word in sent if not word  in set(stopwords.words('english'))]\n",
    "    sent = [lem.lemmatize(word)for word in sent if not word  in set(stopwords.words('english'))]\n",
    "    sent = ' '.join(sent)\n",
    "    corpus.append(sent)"
   ]
  },
  {
   "cell_type": "code",
   "execution_count": 33,
   "metadata": {},
   "outputs": [
    {
     "data": {
      "text/plain": [
       "['artificial intelligence founded academic discipline year since experienced several wave optimism followed disappointment loss funding known ai winter followed new approach success renewed funding',\n",
       " 'history ai research divided sub field often fail communicate',\n",
       " 'sub field based technical consideration particular goal e g',\n",
       " 'robotics machine learning use particular tool logic artificial neural network deep philosophical difference',\n",
       " 'sub field also based social factor particular institution work particular researcher',\n",
       " 'traditional problem goal ai research include reasoning knowledge representation planning learning natural language processing perception ability move manipulate object',\n",
       " 'general intelligence among field long term goal',\n",
       " 'approach include statistical method computational intelligence traditional symbolic ai',\n",
       " 'many tool used ai including version search mathematical optimization artificial neural network method based statistic probability economics',\n",
       " 'ai field draw upon computer science information engineering mathematics psychology linguistics philosophy many field',\n",
       " 'field founded assumption human intelligence precisely described machine made simulate',\n",
       " 'raise philosophical argument nature mind ethic creating artificial being endowed human like intelligence',\n",
       " 'issue explored myth fiction philosophy since antiquity',\n",
       " 'people also consider ai danger humanity progress unabated',\n",
       " 'others believe ai unlike previous technological revolution create risk mass unemployment',\n",
       " 'twenty first century ai technique experienced resurgence following concurrent advance computer power large amount data theoretical understanding ai technique become essential part technology industry helping solve many challenging problem computer science software engineering operation research']"
      ]
     },
     "execution_count": 33,
     "metadata": {},
     "output_type": "execute_result"
    }
   ],
   "source": [
    "corpus"
   ]
  },
  {
   "cell_type": "code",
   "execution_count": null,
   "metadata": {},
   "outputs": [],
   "source": []
  },
  {
   "cell_type": "markdown",
   "metadata": {},
   "source": [
    "### Let's prepare the Bag of words model"
   ]
  },
  {
   "cell_type": "code",
   "execution_count": 34,
   "metadata": {},
   "outputs": [],
   "source": [
    "from sklearn.feature_extraction.text import CountVectorizer\n",
    "cv = CountVectorizer(max_features=2000)\n",
    "X = cv.fit_transform(corpus).toarray()"
   ]
  },
  {
   "cell_type": "code",
   "execution_count": 37,
   "metadata": {},
   "outputs": [
    {
     "data": {
      "text/plain": [
       "(16, 155)"
      ]
     },
     "execution_count": 37,
     "metadata": {},
     "output_type": "execute_result"
    }
   ],
   "source": [
    "X.shape"
   ]
  },
  {
   "cell_type": "code",
   "execution_count": 38,
   "metadata": {},
   "outputs": [
    {
     "data": {
      "text/plain": [
       "array([[0, 1, 0, ..., 1, 0, 1],\n",
       "       [0, 0, 0, ..., 0, 0, 0],\n",
       "       [0, 0, 0, ..., 0, 0, 0],\n",
       "       ...,\n",
       "       [0, 0, 0, ..., 0, 0, 0],\n",
       "       [0, 0, 0, ..., 0, 0, 0],\n",
       "       [0, 0, 1, ..., 0, 0, 0]])"
      ]
     },
     "execution_count": 38,
     "metadata": {},
     "output_type": "execute_result"
    }
   ],
   "source": [
    "X"
   ]
  },
  {
   "cell_type": "markdown",
   "metadata": {},
   "source": [
    "#### Transformation has been done and the words are tokenized by 0s and 1s"
   ]
  },
  {
   "cell_type": "markdown",
   "metadata": {},
   "source": [
    "### But we have a better tokenizer, \"TF-IDF\" let's see then!!\n",
    "\n",
    "    It stands for Term frequency and Inverse Document Frequency\n",
    "    Which provides some importance to semantics remember that\n"
   ]
  },
  {
   "cell_type": "code",
   "execution_count": 39,
   "metadata": {},
   "outputs": [],
   "source": [
    "from sklearn.feature_extraction.text import TfidfVectorizer\n",
    "cv = TfidfVectorizer(max_features=2000)\n",
    "X = cv.fit_transform(corpus).toarray()"
   ]
  },
  {
   "cell_type": "code",
   "execution_count": 40,
   "metadata": {},
   "outputs": [
    {
     "data": {
      "text/plain": [
       "array([[0.        , 0.19922255, 0.        , ..., 0.19922255, 0.        ,\n",
       "        0.19922255],\n",
       "       [0.        , 0.        , 0.        , ..., 0.        , 0.        ,\n",
       "        0.        ],\n",
       "       [0.        , 0.        , 0.        , ..., 0.        , 0.        ,\n",
       "        0.        ],\n",
       "       ...,\n",
       "       [0.        , 0.        , 0.        , ..., 0.        , 0.        ,\n",
       "        0.        ],\n",
       "       [0.        , 0.        , 0.        , ..., 0.        , 0.        ,\n",
       "        0.        ],\n",
       "       [0.        , 0.        , 0.16847272, ..., 0.        , 0.        ,\n",
       "        0.        ]])"
      ]
     },
     "execution_count": 40,
     "metadata": {},
     "output_type": "execute_result"
    }
   ],
   "source": [
    "X"
   ]
  },
  {
   "cell_type": "code",
   "execution_count": 41,
   "metadata": {},
   "outputs": [
    {
     "data": {
      "text/plain": [
       "(16, 155)"
      ]
     },
     "execution_count": 41,
     "metadata": {},
     "output_type": "execute_result"
    }
   ],
   "source": [
    "X.shape"
   ]
  },
  {
   "cell_type": "markdown",
   "metadata": {},
   "source": [
    "### as you can see it's no more 1s and 0s as per the word it assigned some values as per the importance"
   ]
  },
  {
   "cell_type": "markdown",
   "metadata": {},
   "source": [
    "# Let's see another technique for NLP problems which is Word2Vec...so let's start\n",
    "    to overcome the problems like over fitting  and semantic relationship this is the algo we use\n",
    "    "
   ]
  },
  {
   "cell_type": "markdown",
   "metadata": {},
   "source": [
    "## Steps to implement\n",
    "    1.Tokenization of sentences\n",
    "    2.Create Histogram\n",
    "    3.Take most frequent words\n",
    "    4Create matrix of unique words among them to show occurence\n",
    "    "
   ]
  },
  {
   "cell_type": "code",
   "execution_count": 43,
   "metadata": {},
   "outputs": [
    {
     "data": {
      "text/plain": [
       "'Artificial intelligence was founded as an academic discipline in 1955, and in the years since has experienced several waves of optimism, followed by disappointment and the loss of funding (known as an \"AI winter\"), followed by new approaches, success and renewed funding. For most of its history, AI research has been divided into sub-fields that often fail to communicate with each other. These sub-fields are based on technical considerations, such as particular goals (e.g. \"robotics\" or \"machine learning\"), the use of particular tools (\"logic\" or artificial neural networks), or deep philosophical differences. Sub-fields have also been based on social factors (particular institutions or the work of particular researchers).\\n\\nThe traditional problems (or goals) of AI research include reasoning, knowledge representation, planning, learning, natural language processing, perception and the ability to move and manipulate objects. General intelligence is among the field\\'s long-term goals. Approaches include statistical methods, computational intelligence, and traditional symbolic AI. Many tools are used in AI, including versions of search and mathematical optimization, artificial neural networks, and methods based on statistics, probability and economics. The AI field draws upon computer science, information engineering, mathematics, psychology, linguistics, philosophy, and many other fields.\\n\\nThe field was founded on the assumption that human intelligence \"can be so precisely described that a machine can be made to simulate it\". This raises philosophical arguments about the nature of the mind and the ethics of creating artificial beings endowed with human-like intelligence. These issues have been explored by myth, fiction and philosophy since antiquity. Some people also consider AI to be a danger to humanity if it progresses unabated. Others believe that AI, unlike previous technological revolutions, will create a risk of mass unemployment.\\n\\nIn the twenty-first century, AI techniques have experienced a resurgence following concurrent advances in computer power, large amounts of data, and theoretical understanding; and AI techniques have become an essential part of the technology industry, helping to solve many challenging problems in computer science, software engineering and operations research'"
      ]
     },
     "execution_count": 43,
     "metadata": {},
     "output_type": "execute_result"
    }
   ],
   "source": [
    "paragraph"
   ]
  },
  {
   "cell_type": "code",
   "execution_count": 46,
   "metadata": {},
   "outputs": [],
   "source": [
    "from gensim.models import Word2Vec"
   ]
  },
  {
   "cell_type": "code",
   "execution_count": null,
   "metadata": {},
   "outputs": [],
   "source": []
  }
 ],
 "metadata": {
  "kernelspec": {
   "display_name": "Python 3",
   "language": "python",
   "name": "python3"
  },
  "language_info": {
   "codemirror_mode": {
    "name": "ipython",
    "version": 3
   },
   "file_extension": ".py",
   "mimetype": "text/x-python",
   "name": "python",
   "nbconvert_exporter": "python",
   "pygments_lexer": "ipython3",
   "version": "3.7.4"
  }
 },
 "nbformat": 4,
 "nbformat_minor": 2
}
