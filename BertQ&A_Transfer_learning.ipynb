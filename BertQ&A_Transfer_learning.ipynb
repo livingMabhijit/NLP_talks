{
  "nbformat": 4,
  "nbformat_minor": 0,
  "metadata": {
    "colab": {
      "name": "BertQ&A_Transfer learning.ipynb",
      "provenance": [],
      "authorship_tag": "ABX9TyNyJ1ksHas7ys4PHutGAe1l"
    },
    "kernelspec": {
      "name": "python3",
      "display_name": "Python 3"
    }
  },
  "cells": [
    {
      "cell_type": "code",
      "metadata": {
        "id": "CUATsldlTjk2",
        "outputId": "64564b65-af99-4770-eefd-5f708a8fc5c4",
        "colab": {
          "base_uri": "https://localhost:8080/",
          "height": 255
        }
      },
      "source": [
        "!git clone https://github.com/kamalkraj/BERT-SQuAD.git\n",
        "!pip install -q -r \"BERT-SQuAD/requirements.txt\"\n",
        "!pip install -q gradio"
      ],
      "execution_count": 1,
      "outputs": [
        {
          "output_type": "stream",
          "text": [
            "Cloning into 'BERT-SQuAD'...\n",
            "remote: Enumerating objects: 26, done.\u001b[K\n",
            "remote: Counting objects: 100% (26/26), done.\u001b[K\n",
            "remote: Compressing objects: 100% (21/21), done.\u001b[K\n",
            "remote: Total 26 (delta 4), reused 16 (delta 1), pack-reused 0\u001b[K\n",
            "Unpacking objects: 100% (26/26), done.\n",
            "\u001b[K     |████████████████████████████████| 143kB 4.8MB/s \n",
            "\u001b[K     |████████████████████████████████| 102kB 5.6MB/s \n",
            "\u001b[K     |████████████████████████████████| 1.1MB 10.9MB/s \n",
            "\u001b[K     |████████████████████████████████| 1.0MB 4.4MB/s \n",
            "\u001b[K     |████████████████████████████████| 215kB 26.6MB/s \n",
            "\u001b[K     |████████████████████████████████| 71kB 5.5MB/s \n",
            "\u001b[K     |████████████████████████████████| 962kB 28.4MB/s \n",
            "\u001b[K     |████████████████████████████████| 2.6MB 18.6MB/s \n",
            "\u001b[?25h"
          ],
          "name": "stdout"
        }
      ]
    },
    {
      "cell_type": "code",
      "metadata": {
        "id": "thUlZnz3Tuzi",
        "outputId": "dd802ab1-65b0-4bd9-aa92-b880a3f201dc",
        "colab": {
          "base_uri": "https://localhost:8080/",
          "height": 122
        }
      },
      "source": [
        "\n",
        "import gradio as gr\n",
        "import sys\n",
        "sys.path.append(\"BERT-SQuAD\")\n",
        "from bert import QA\n",
        "model = QA('bert-large-uncased-whole-word-masking-finetuned-squad')\n",
        "\n",
        "def qa_func(context, question):\n",
        "    return model.predict(context, question)[\"answer\"]"
      ],
      "execution_count": 2,
      "outputs": [
        {
          "output_type": "stream",
          "text": [
            "Model name 'bert-large-uncased-whole-word-masking-finetuned-squad/bert_config.json' was not found in model name list (bert-base-uncased, bert-large-uncased, bert-base-cased, bert-large-cased, bert-base-multilingual-uncased, bert-base-multilingual-cased, bert-base-chinese, bert-base-german-cased, bert-large-uncased-whole-word-masking, bert-large-cased-whole-word-masking, bert-large-uncased-whole-word-masking-finetuned-squad, bert-large-cased-whole-word-masking-finetuned-squad, bert-base-cased-finetuned-mrpc). We assumed 'bert-large-uncased-whole-word-masking-finetuned-squad/bert_config.json' was a path or url but couldn't find any file associated to this path or url.\n",
            "The pre-trained model you are loading is an uncased model but you have set `do_lower_case` to False. We are setting `do_lower_case=True` for you but you may want to check this behavior.\n",
            "100%|██████████| 231508/231508 [00:00<00:00, 900867.11B/s]\n",
            "100%|██████████| 443/443 [00:00<00:00, 108939.77B/s]\n",
            "100%|██████████| 1340675298/1340675298 [00:33<00:00, 40501167.00B/s]\n"
          ],
          "name": "stderr"
        }
      ]
    },
    {
      "cell_type": "code",
      "metadata": {
        "id": "kFx6vpXTTy2R",
        "outputId": "2af9ecaf-44ea-4d9d-be7a-23a64d12fdcb",
        "colab": {
          "base_uri": "https://localhost:8080/",
          "height": 640
        }
      },
      "source": [
        "gr.Interface(qa_func, \n",
        "    [\n",
        "        gr.inputs.Textbox(lines=15, label=\"Context\"), \n",
        "        gr.inputs.Textbox(label=\"Question\"), \n",
        "    ], \n",
        "    gr.outputs.Textbox(label=\"Answer\"),\n",
        "    title=\"Question Answer\",\n",
        "    description=\"BERT-SQuAD is a question answering model that takes 2 inputs: a paragraph that provides context and a question that should be answered. Takes around 6s to run.\").launch()\n"
      ],
      "execution_count": 3,
      "outputs": [
        {
          "output_type": "stream",
          "text": [
            "Colab notebook detected. To show errors in colab notebook, set debug=True in launch()\n",
            "This share link will expire in 6 hours. If you need a permanent link, email support@gradio.app\n",
            "Running on External URL: https://52926.gradio.app\n",
            "Interface loading below...\n"
          ],
          "name": "stdout"
        },
        {
          "output_type": "display_data",
          "data": {
            "text/html": [
              "\n",
              "        <iframe\n",
              "            width=\"1000\"\n",
              "            height=\"500\"\n",
              "            src=\"https://52926.gradio.app\"\n",
              "            frameborder=\"0\"\n",
              "            allowfullscreen\n",
              "        ></iframe>\n",
              "        "
            ],
            "text/plain": [
              "<IPython.lib.display.IFrame at 0x7f84a2441cc0>"
            ]
          },
          "metadata": {
            "tags": []
          }
        },
        {
          "output_type": "execute_result",
          "data": {
            "text/plain": [
              "(<Flask 'gradio.networking'>,\n",
              " 'http://127.0.0.1:7860/',\n",
              " 'https://52926.gradio.app')"
            ]
          },
          "metadata": {
            "tags": []
          },
          "execution_count": 3
        }
      ]
    },
    {
      "cell_type": "code",
      "metadata": {
        "id": "hA-VC9V1UCK-"
      },
      "source": [
        ""
      ],
      "execution_count": null,
      "outputs": []
    }
  ]
}