{
  "nbformat": 4,
  "nbformat_minor": 0,
  "metadata": {
    "colab": {
      "name": "ocr_pdf-text and paragraph similarity base technique.ipynb",
      "provenance": [],
      "collapsed_sections": [],
      "mount_file_id": "1qdcPopDE1Ewihn0UhSvMV32E774nV15S",
      "authorship_tag": "ABX9TyOc6EhXmWVaZOUflPLScv1D"
    },
    "kernelspec": {
      "name": "python3",
      "display_name": "Python 3"
    }
  },
  "cells": [
    {
      "cell_type": "markdown",
      "metadata": {
        "id": "ikTP7G66qL1_",
        "colab_type": "text"
      },
      "source": [
        "One Way of doing it"
      ]
    },
    {
      "cell_type": "code",
      "metadata": {
        "id": "2doMM4LDDe9p",
        "colab_type": "code",
        "colab": {}
      },
      "source": [
        "# !sudo apt-get install imagemagick\n",
        "#  !pip install wand\n",
        "# !pip install tesseract\n",
        "# !pip install pytesseract"
      ],
      "execution_count": null,
      "outputs": []
    },
    {
      "cell_type": "code",
      "metadata": {
        "id": "oC1H4-gFERkF",
        "colab_type": "code",
        "colab": {}
      },
      "source": [
        "import io\n",
        "import pytesseract\n",
        "from PIL import Image\n",
        "from wand.image import Image as wi"
      ],
      "execution_count": 9,
      "outputs": []
    },
    {
      "cell_type": "code",
      "metadata": {
        "id": "EAYR3nfaEwFK",
        "colab_type": "code",
        "colab": {}
      },
      "source": [
        "pdf = wi(filename = 'Abhijit MAHAPATRA__v0.1_Hybris_BA.pdf',resolution =300)\n",
        "pdfImage = pdf.convert('jpeg')\n",
        "imBlobs =[]\n",
        "for img in pdfImage.sequence:\n",
        "  imgPage= wi(image=img)\n",
        "  imgBlob.append(imgPage.make_blob(format='jpeg'))\n",
        "\n",
        "recognized_text= []\n",
        "for imgBlob in imgBlobs:\n",
        "  img_raw = Image.open(io.BytesIO(imgBlob))\n",
        "  text = pytesseract.image_to_string(img_raw,lang='eng')\n",
        "  recognized_text.append(text)\n",
        "  print(recognized_text)\n",
        "\n"
      ],
      "execution_count": null,
      "outputs": []
    },
    {
      "cell_type": "markdown",
      "metadata": {
        "id": "3GqG2TjiqQKW",
        "colab_type": "text"
      },
      "source": [
        "If you get any error you can use Pillow and tesseract only"
      ]
    },
    {
      "cell_type": "code",
      "metadata": {
        "id": "LNfeO_wSMnu3",
        "colab_type": "code",
        "colab": {}
      },
      "source": [
        "from PIL import Image\n",
        "import pytesseract"
      ],
      "execution_count": 15,
      "outputs": []
    },
    {
      "cell_type": "code",
      "metadata": {
        "id": "yB7WQ7s9M0wj",
        "colab_type": "code",
        "colab": {
          "base_uri": "https://localhost:8080/",
          "height": 207
        },
        "outputId": "99e5d4b1-9e11-49e1-98e0-20dced7e3c1c"
      },
      "source": [
        "!pip install PyPDF2\n",
        "!pip install pillow"
      ],
      "execution_count": 16,
      "outputs": [
        {
          "output_type": "stream",
          "text": [
            "Collecting PyPDF2\n",
            "\u001b[?25l  Downloading https://files.pythonhosted.org/packages/b4/01/68fcc0d43daf4c6bdbc6b33cc3f77bda531c86b174cac56ef0ffdb96faab/PyPDF2-1.26.0.tar.gz (77kB)\n",
            "\r\u001b[K     |████▎                           | 10kB 18.6MB/s eta 0:00:01\r\u001b[K     |████████▌                       | 20kB 1.6MB/s eta 0:00:01\r\u001b[K     |████████████▊                   | 30kB 1.8MB/s eta 0:00:01\r\u001b[K     |█████████████████               | 40kB 2.1MB/s eta 0:00:01\r\u001b[K     |█████████████████████▏          | 51kB 2.0MB/s eta 0:00:01\r\u001b[K     |█████████████████████████▍      | 61kB 2.2MB/s eta 0:00:01\r\u001b[K     |█████████████████████████████▋  | 71kB 2.4MB/s eta 0:00:01\r\u001b[K     |████████████████████████████████| 81kB 2.2MB/s \n",
            "\u001b[?25hBuilding wheels for collected packages: PyPDF2\n",
            "  Building wheel for PyPDF2 (setup.py) ... \u001b[?25l\u001b[?25hdone\n",
            "  Created wheel for PyPDF2: filename=PyPDF2-1.26.0-cp36-none-any.whl size=61086 sha256=24539223808e62e32a6c16fdbfb65a193b6bd69bff69690aa00b162c2621a569\n",
            "  Stored in directory: /root/.cache/pip/wheels/53/84/19/35bc977c8bf5f0c23a8a011aa958acd4da4bbd7a229315c1b7\n",
            "Successfully built PyPDF2\n",
            "Installing collected packages: PyPDF2\n",
            "Successfully installed PyPDF2-1.26.0\n"
          ],
          "name": "stdout"
        }
      ]
    },
    {
      "cell_type": "code",
      "metadata": {
        "id": "RT4ibGB_NfZb",
        "colab_type": "code",
        "colab": {
          "base_uri": "https://localhost:8080/",
          "height": 34
        },
        "outputId": "a0337616-27d1-490a-ccab-8fadd486cd21"
      },
      "source": [
        "import PyPDF2 as pdf\n",
        "file = open('/content/Abhijit MAHAPATRA__v0.1_Hybris_BA.pdf','rb')\n",
        "file"
      ],
      "execution_count": 17,
      "outputs": [
        {
          "output_type": "execute_result",
          "data": {
            "text/plain": [
              "<_io.BufferedReader name='/content/Abhijit MAHAPATRA__v0.1_Hybris_BA.pdf'>"
            ]
          },
          "metadata": {
            "tags": []
          },
          "execution_count": 17
        }
      ]
    },
    {
      "cell_type": "code",
      "metadata": {
        "id": "uqFV0NXPN9H8",
        "colab_type": "code",
        "colab": {
          "base_uri": "https://localhost:8080/",
          "height": 34
        },
        "outputId": "ad612d89-3964-419b-9bb5-1dddd78c0194"
      },
      "source": [
        "pdf_reader =  pdf.PdfFileReader(file)\n",
        "pdf_reader"
      ],
      "execution_count": 18,
      "outputs": [
        {
          "output_type": "execute_result",
          "data": {
            "text/plain": [
              "<PyPDF2.pdf.PdfFileReader at 0x7f501f359a58>"
            ]
          },
          "metadata": {
            "tags": []
          },
          "execution_count": 18
        }
      ]
    },
    {
      "cell_type": "code",
      "metadata": {
        "id": "Yoh9ldLZOHfw",
        "colab_type": "code",
        "colab": {
          "base_uri": "https://localhost:8080/",
          "height": 34
        },
        "outputId": "48927be2-fc1c-4212-cc56-2997f36f0df1"
      },
      "source": [
        "pdf_reader.getIsEncrypted()"
      ],
      "execution_count": 20,
      "outputs": [
        {
          "output_type": "execute_result",
          "data": {
            "text/plain": [
              "False"
            ]
          },
          "metadata": {
            "tags": []
          },
          "execution_count": 20
        }
      ]
    },
    {
      "cell_type": "code",
      "metadata": {
        "id": "LqgnX2t-Oik6",
        "colab_type": "code",
        "colab": {
          "base_uri": "https://localhost:8080/",
          "height": 34
        },
        "outputId": "af7bd692-e176-42c6-9c00-8a938bf37007"
      },
      "source": [
        "pdf_reader.getNumPages()"
      ],
      "execution_count": 23,
      "outputs": [
        {
          "output_type": "execute_result",
          "data": {
            "text/plain": [
              "2"
            ]
          },
          "metadata": {
            "tags": []
          },
          "execution_count": 23
        }
      ]
    },
    {
      "cell_type": "code",
      "metadata": {
        "id": "_TuPlqGxOowl",
        "colab_type": "code",
        "colab": {}
      },
      "source": [
        "page1 = pdf_reader.getPage(0)"
      ],
      "execution_count": 25,
      "outputs": []
    },
    {
      "cell_type": "code",
      "metadata": {
        "id": "pP4LO9lLPJE8",
        "colab_type": "code",
        "colab": {
          "base_uri": "https://localhost:8080/",
          "height": 174
        },
        "outputId": "c01a2b24-b406-494d-861a-4b85bd8be508"
      },
      "source": [
        "page1.extractText()"
      ],
      "execution_count": 26,
      "outputs": [
        {
          "output_type": "execute_result",
          "data": {
            "application/vnd.google.colaboratory.intrinsic+json": {
              "type": "string"
            },
            "text/plain": [
              "'!\"#$%!&\\n#$\\'#()*+,\\n!                                               \\nAbhijit\\n MAHAPATRA\\n Miracle Tower, SGR dental college road, Marathahalli, Bangalore, 560037\\n  +91 9606796807, mahapatraabhijit9@gmail.com\\n   PROFILE  - Quality and solutions\\n-driven Business Consulting graduate,\\n with \\nmore than \\n3 years of \\nwork \\nexperience in different domains as \\na Functional\\n/ Business\\n Analyst \\nand great capacity in leading and executing strategic engagement to navigate client business\\n, through change \\nand transformation regarding productivity, operations and performance goals. Opti\\nmistically seeking a worthwhile opportunity to analyze and \\nimplement business projects, propose business partnerships, recommend solutions/changes and develop service excellence model \\nto enhance \\ncustomer relationships, and build credibility with executives\\n and staff. \\n SIGNATURE VALUES\\n         EMPLOYMENT\\n HISTORY  March 2019 \\n Present      \\nSAP Hybris Functional Commerce Consultant\\n, Utegration\\n LLC       \\n                           \\n   \\nBangalore, India\\n  Requirement gathering for implementation partner(Confidential).\\n  Hybris Commerce solution fo\\nr Utility client integrated with CRM and Hybris\\n C4C & Billing.\\n  Product & service management with Datahub.\\n  Enhancements for payment, checkout and order fulfilment functionalities.\\n  Storefront enabled with lead management by ymkt, customer management with C4C.\\n   Apr 2018\\n  Oct\\n 2018        \\nProduct Definition Analyst\\n, ALTRAN\\n (CDI)                        \\n           \\n                                   \\n              \\nNice, France\\n  Project Overview \\n-  A new implementation for changing the old way of \\nairline \\nbusiness process\\n to manages sales, vendor \\nbilling\\n method, data \\nstorage\\n, migrate legacy data, web res\\nponsive UI \\nwith cloud solution and many upgraded functionalities to make business run simple.\\n                       \\n  Assigned\\n at the client site for the \\nnew\\n Order to Cash Hybris commerce\\n implementation, a billing \\nsolution\\n.  Served as \\npoint of contact\\n between business users and \\ndevelopment team for s\\ncope definition and Strategic analysis \\nwith senior management.\\n Conducted business process Gap Analysis between \\nTo-Be design and \\nAs-Is Business \\nProcesses, and made recommendations for Process Improvement\\n for better user experience.\\n  Translated business r\\nequirement \\ninto functional requirement\\n for the new business processes and solution \\nprototype(\\nMVP\\n) for order management\\n.  Solved application and configuration issues and collaborated\\n with teams in India, Spain and France for Agile \\ndevelopment.\\n Managed off\\n-shore team during delivery cycle.\\n  Delivered user interface design document and \\ntech. specifications\\n for cloud\\n-based business app\\nlication and \\nE-commerce solutions\\n for WCMS and Backoff\\nice\\n (hMc).   Implemented\\n new pricing procedure and automated invoicing for revenue management.\\n  Developed\\n dashboard and interactive reports for\\n data analysis and Business \\nintelligence for high level \\nbusiness owners.\\n  Apr 2015 \\n Aug 2017 \\n    App\\nlication Deve\\nlopmen\\nt Ana\\nlyst, \\nAccenture\\n                                                             \\n     \\nBangalore, India\\n  Client \\n- Pfizer.Inc\\n.  Project Overview \\n Enhancement of \\nAs-Is B2B application functionalities with a new version of ERP solution to \\nget a \\n360- degree\\n customer\\n view of business\\n, within \\nsingle platform.\\n  Served as \\na project\\n \\ns admin tool. Some of my tasks:\\n  Requirement \\nelicitation\\n for associated applications\\n development\\n.  Understanding business process flow for end\\n-end system integration.\\n  Writing test scenarios for f\\nunctional\\n testing before UAT.\\n  Tracking the development cycle with\\n respect to project management plan.\\n  Monitoring defec\\nts with help of HP ALM and generating reports on the progress\\n to the project manager.\\n Client \\n Diageo\\n New business solution to\\n implement\\n Omni channel warehouses management\\n to simplify the component repository, \\nproductions, transport, documentation, plant m\\n\\n-currency pricing. \\n     Stakeholder analysis for approval process.\\n  Funct\\nional requirement documentation.\\n  Organized workshop for stakeholder engagement. \\n  Risk analysis with \\nmitigation recommendation.\\n  Incident/change request management for new implementation\\n.  Billing and pricing for order management fulfilment.\\n  Creating photo personas for user segregation\\n/roles.\\n Solution Architecture\\n -./#(,(+)#!0(1*+/#1/2(#\\n 3(4,4)$5!6/($/#78!$.\\'!9#:#54,%#./!\\n! ;4%,#/+/4(!$.\\'!<$(=#/!0.$58)+)!\\n! >2)+.#))!0.$58)+)?!\\n! ;2)/4%#(!@#A2+(#%#./)!0\\n.$58)+)!\\n! >2)+.#))!B$52#!3(4,4)+/+4.\\n! ;*$.7#!<$.$7#%#./\\n! C(7$.+D$/+4.$5!;4.)25/+.7\\n! Project \\nManagement\\n @+)=!<$.$7#%#./\\n! '"
            ]
          },
          "metadata": {
            "tags": []
          },
          "execution_count": 26
        }
      ]
    },
    {
      "cell_type": "code",
      "metadata": {
        "id": "SV5UbhS5PR9z",
        "colab_type": "code",
        "colab": {
          "base_uri": "https://localhost:8080/",
          "height": 174
        },
        "outputId": "15aaf0f1-485e-42ea-cac7-57703352872a"
      },
      "source": [
        "page2 = pdf_reader.getPage(1)\n",
        "page2.extractText()"
      ],
      "execution_count": 27,
      "outputs": [
        {
          "output_type": "execute_result",
          "data": {
            "application/vnd.google.colaboratory.intrinsic+json": {
              "type": "string"
            },
            "text/plain": [
              "' \\n  Reviewi\\nng test plan and test cases for SIT.\\n  Supported product during hyper care period.\\n  Client \\n-  SC Johnson & Sons\\n  Implementation of \\na new \\nweb-application\\n for B2B2C solution with separate user access fo\\nr super user and their customers\\n.  User \\nexperience\\n(U/X)\\n designs at interface level in the presentation layer.\\n  Documenting\\n login/register functionalities with required business restrictions.\\n  Promotion and campaign management with analytical report delivery.\\n  Web content management with 3\\nrd party applications\\n by integration\\n.  Financial data modelling for payments and refunds with respect to country tax.\\n  Worked with services like REST, SOAP, HTTP\\n, OData For Datahub connections.\\n  Test case validation and partial functional testing.\\n  Hand\\ns on expe\\nrience in tools like \\nErWin\\n, Jaspersoft, Microsoft\\n Visio\\n, Daptive\\n for schedule reporting \\nand modelling.\\n !\"#$%&\\'()*$+,--.(+.$+,(.$./0.(1)2.3\\n$  B2B & B2C implementations and deployments\\n.  Product, hMc, hAc, CMS Cockpit, Backoffice \\n configuration\\n for Product & order management. \\n  3rd party Integrations for payment, Web Content Management, Taxation, addres\\ns validation, Product analytics\\n.  Order management services with SAP\\n/ERP integration using Data hub (Sync & Asynchronous)\\n.  Designing specification \\nfor hMc & Back Office customization to meet client specific requirements\\n.  ImpEx, flexi search, Hot Folder, Live Edits/smart edit\\n (Personalization)\\n.   Solr index\\ning and logging functionalities with solr cloud(Zookeeper).\\n  Customer segmentation (BTG), \\nPromotion and other relevant functional tasks.\\n  Completed projects for \\nenhancements with Deeplink, LDAP\\n, Geometrics (for AEM) and \\nCPQ.   EDUCATION  Sep 2017  Dec\\n 2018             MSc in Business Con\\nsulting and Information System Management.   Skem\\na Business Schoo\\nl     Sophia\\n Antipolis,\\n France\\n Aug 2010  Sep 2014                  BTech\\n In Electronics and Communication Engineering\\n  Biju\\n Patnaik University\\n of Technology\\n Bhubaneswar\\n, India -Gradua\\nted from a well\\n-recognized college f\\nor my bachelors with \\n7.2 GPA from Electronics and \\nCommun\\nication Eng\\nineeri\\nng specialization. -Worked \\non a \\nproject called \\nRob\\no-Gravity, in \\nwhich\\n I developed a \\n3-axis \\nacc\\neler\\nometer \\ncon\\ntrolled \\ndevice which mov\\nes with \\nmov\\nement of han\\nd gesture. -Parti\\ncipated in \\ndiffere\\nnt volunteer activities to \\nmak\\ne my college life \\nmore memorable.   SKILLS\\n  Project management        \\n                                                                   SDLC,       \\nAgile & W\\naterfall, \\n     Business Process Management\\n,     Customer Journey Mapping,\\n     Project Planning & Documentation.\\n  Business Analysis\\n     Requirement \\nElicitation\\n     Track enhancements & \\nnewly identified \\nissues\\n.     Solution validation and facilitate testing.\\n     User Story preparation and Use case presentation\\n     Visual Modelling and Process flow chart creation\\n     Presales cutover activities\\n   - Obtained\\n \\n focused \\ninterest in improving business performance and project management, I have\\n gained\\n the capacity to seamlessly \\ndrive business innovations\\n. - Ability to \\nexecute \\nproj\\nects within budget and time \\nconstraints\\n and\\n maximize\\n improvement strategies. \\npreviously worked\\n on a project for implementation of machine learning in SAP Solution manager\\n 7.2 as a key resource.\\n Contributed my \\nfunctional\\n expertise from my previous experienc\\ne in \\nuser interface design\\n for feasible \\nsolutions\\n.    Tools and Applications\\n     Microsoft Business Intelligence, \\n     Microsoft Project \\n     Microsoft excel, Tableu\\n      IBM Cognos, Open source BI tools  \\n     Sublime, Hana Studio\\n, ETL and data replication tools\\n     Jira, HP ALM\\n  Language\\n           \\nEnglish \\n Fluent\\n          \\nFrench \\n  Moderate\\n   '"
            ]
          },
          "metadata": {
            "tags": []
          },
          "execution_count": 27
        }
      ]
    },
    {
      "cell_type": "markdown",
      "metadata": {
        "id": "UglA2eCAqWvb",
        "colab_type": "text"
      },
      "source": [
        "Once the text extraction done, we will do the sentTokenization and sent2vec and similarity with any target paragraph."
      ]
    },
    {
      "cell_type": "code",
      "metadata": {
        "id": "v9tKnfUtPu57",
        "colab_type": "code",
        "colab": {}
      },
      "source": [
        ""
      ],
      "execution_count": null,
      "outputs": []
    }
  ]
}