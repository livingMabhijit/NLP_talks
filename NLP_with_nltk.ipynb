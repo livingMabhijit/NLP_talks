{
 "cells": [
  {
   "cell_type": "markdown",
   "metadata": {},
   "source": [
    "### NLTK is the most popular library for NLP so let's deep dive into it\n"
   ]
  },
  {
   "cell_type": "code",
   "execution_count": 1,
   "metadata": {},
   "outputs": [],
   "source": [
    "import nltk\n",
    "#nltk.download()"
   ]
  },
  {
   "cell_type": "code",
   "execution_count": 7,
   "metadata": {},
   "outputs": [],
   "source": [
    "paragraph = '''Artificial intelligence was founded as an academic discipline in 1955, and in the years since has experienced several waves of optimism, followed by disappointment and the loss of funding (known as an \"AI winter\"), followed by new approaches, success and renewed funding. For most of its history, AI research has been divided into sub-fields that often fail to communicate with each other. These sub-fields are based on technical considerations, such as particular goals (e.g. \"robotics\" or \"machine learning\"), the use of particular tools (\"logic\" or artificial neural networks), or deep philosophical differences. Sub-fields have also been based on social factors (particular institutions or the work of particular researchers).\n",
    "\n",
    "The traditional problems (or goals) of AI research include reasoning, knowledge representation, planning, learning, natural language processing, perception and the ability to move and manipulate objects. General intelligence is among the field's long-term goals. Approaches include statistical methods, computational intelligence, and traditional symbolic AI. Many tools are used in AI, including versions of search and mathematical optimization, artificial neural networks, and methods based on statistics, probability and economics. The AI field draws upon computer science, information engineering, mathematics, psychology, linguistics, philosophy, and many other fields.\n",
    "\n",
    "The field was founded on the assumption that human intelligence \"can be so precisely described that a machine can be made to simulate it\". This raises philosophical arguments about the nature of the mind and the ethics of creating artificial beings endowed with human-like intelligence. These issues have been explored by myth, fiction and philosophy since antiquity. Some people also consider AI to be a danger to humanity if it progresses unabated. Others believe that AI, unlike previous technological revolutions, will create a risk of mass unemployment.\n",
    "\n",
    "In the twenty-first century, AI techniques have experienced a resurgence following concurrent advances in computer power, large amounts of data, and theoretical understanding; and AI techniques have become an essential part of the technology industry, helping to solve many challenging problems in computer science, software engineering and operations research'''"
   ]
  },
  {
   "cell_type": "code",
   "execution_count": 8,
   "metadata": {},
   "outputs": [
    {
     "data": {
      "text/plain": [
       "'Artificial intelligence was founded as an academic discipline in 1955, and in the years since has experienced several waves of optimism, followed by disappointment and the loss of funding (known as an \"AI winter\"), followed by new approaches, success and renewed funding. For most of its history, AI research has been divided into sub-fields that often fail to communicate with each other. These sub-fields are based on technical considerations, such as particular goals (e.g. \"robotics\" or \"machine learning\"), the use of particular tools (\"logic\" or artificial neural networks), or deep philosophical differences. Sub-fields have also been based on social factors (particular institutions or the work of particular researchers).\\n\\nThe traditional problems (or goals) of AI research include reasoning, knowledge representation, planning, learning, natural language processing, perception and the ability to move and manipulate objects. General intelligence is among the field\\'s long-term goals. Approaches include statistical methods, computational intelligence, and traditional symbolic AI. Many tools are used in AI, including versions of search and mathematical optimization, artificial neural networks, and methods based on statistics, probability and economics. The AI field draws upon computer science, information engineering, mathematics, psychology, linguistics, philosophy, and many other fields.\\n\\nThe field was founded on the assumption that human intelligence \"can be so precisely described that a machine can be made to simulate it\". This raises philosophical arguments about the nature of the mind and the ethics of creating artificial beings endowed with human-like intelligence. These issues have been explored by myth, fiction and philosophy since antiquity. Some people also consider AI to be a danger to humanity if it progresses unabated. Others believe that AI, unlike previous technological revolutions, will create a risk of mass unemployment.\\n\\nIn the twenty-first century, AI techniques have experienced a resurgence following concurrent advances in computer power, large amounts of data, and theoretical understanding; and AI techniques have become an essential part of the technology industry, helping to solve many challenging problems in computer science, software engineering and operations research'"
      ]
     },
     "execution_count": 8,
     "metadata": {},
     "output_type": "execute_result"
    }
   ],
   "source": [
    "paragraph"
   ]
  },
  {
   "cell_type": "code",
   "execution_count": 9,
   "metadata": {},
   "outputs": [
    {
     "data": {
      "text/plain": [
       "['Artificial intelligence was founded as an academic discipline in 1955, and in the years since has experienced several waves of optimism, followed by disappointment and the loss of funding (known as an \"AI winter\"), followed by new approaches, success and renewed funding.',\n",
       " 'For most of its history, AI research has been divided into sub-fields that often fail to communicate with each other.',\n",
       " 'These sub-fields are based on technical considerations, such as particular goals (e.g.',\n",
       " '\"robotics\" or \"machine learning\"), the use of particular tools (\"logic\" or artificial neural networks), or deep philosophical differences.',\n",
       " 'Sub-fields have also been based on social factors (particular institutions or the work of particular researchers).',\n",
       " 'The traditional problems (or goals) of AI research include reasoning, knowledge representation, planning, learning, natural language processing, perception and the ability to move and manipulate objects.',\n",
       " \"General intelligence is among the field's long-term goals.\",\n",
       " 'Approaches include statistical methods, computational intelligence, and traditional symbolic AI.',\n",
       " 'Many tools are used in AI, including versions of search and mathematical optimization, artificial neural networks, and methods based on statistics, probability and economics.',\n",
       " 'The AI field draws upon computer science, information engineering, mathematics, psychology, linguistics, philosophy, and many other fields.',\n",
       " 'The field was founded on the assumption that human intelligence \"can be so precisely described that a machine can be made to simulate it\".',\n",
       " 'This raises philosophical arguments about the nature of the mind and the ethics of creating artificial beings endowed with human-like intelligence.',\n",
       " 'These issues have been explored by myth, fiction and philosophy since antiquity.',\n",
       " 'Some people also consider AI to be a danger to humanity if it progresses unabated.',\n",
       " 'Others believe that AI, unlike previous technological revolutions, will create a risk of mass unemployment.',\n",
       " 'In the twenty-first century, AI techniques have experienced a resurgence following concurrent advances in computer power, large amounts of data, and theoretical understanding; and AI techniques have become an essential part of the technology industry, helping to solve many challenging problems in computer science, software engineering and operations research']"
      ]
     },
     "execution_count": 9,
     "metadata": {},
     "output_type": "execute_result"
    }
   ],
   "source": [
    "sentences = nltk.sent_tokenize(paragraph)\n",
    "sentences"
   ]
  },
  {
   "cell_type": "code",
   "execution_count": 10,
   "metadata": {},
   "outputs": [
    {
     "data": {
      "text/plain": [
       "['Artificial',\n",
       " 'intelligence',\n",
       " 'was',\n",
       " 'founded',\n",
       " 'as',\n",
       " 'an',\n",
       " 'academic',\n",
       " 'discipline',\n",
       " 'in',\n",
       " '1955',\n",
       " ',',\n",
       " 'and',\n",
       " 'in',\n",
       " 'the',\n",
       " 'years',\n",
       " 'since',\n",
       " 'has',\n",
       " 'experienced',\n",
       " 'several',\n",
       " 'waves',\n",
       " 'of',\n",
       " 'optimism',\n",
       " ',',\n",
       " 'followed',\n",
       " 'by',\n",
       " 'disappointment',\n",
       " 'and',\n",
       " 'the',\n",
       " 'loss',\n",
       " 'of',\n",
       " 'funding',\n",
       " '(',\n",
       " 'known',\n",
       " 'as',\n",
       " 'an',\n",
       " '``',\n",
       " 'AI',\n",
       " 'winter',\n",
       " \"''\",\n",
       " ')',\n",
       " ',',\n",
       " 'followed',\n",
       " 'by',\n",
       " 'new',\n",
       " 'approaches',\n",
       " ',',\n",
       " 'success',\n",
       " 'and',\n",
       " 'renewed',\n",
       " 'funding',\n",
       " '.',\n",
       " 'For',\n",
       " 'most',\n",
       " 'of',\n",
       " 'its',\n",
       " 'history',\n",
       " ',',\n",
       " 'AI',\n",
       " 'research',\n",
       " 'has',\n",
       " 'been',\n",
       " 'divided',\n",
       " 'into',\n",
       " 'sub-fields',\n",
       " 'that',\n",
       " 'often',\n",
       " 'fail',\n",
       " 'to',\n",
       " 'communicate',\n",
       " 'with',\n",
       " 'each',\n",
       " 'other',\n",
       " '.',\n",
       " 'These',\n",
       " 'sub-fields',\n",
       " 'are',\n",
       " 'based',\n",
       " 'on',\n",
       " 'technical',\n",
       " 'considerations',\n",
       " ',',\n",
       " 'such',\n",
       " 'as',\n",
       " 'particular',\n",
       " 'goals',\n",
       " '(',\n",
       " 'e.g',\n",
       " '.',\n",
       " '``',\n",
       " 'robotics',\n",
       " \"''\",\n",
       " 'or',\n",
       " '``',\n",
       " 'machine',\n",
       " 'learning',\n",
       " \"''\",\n",
       " ')',\n",
       " ',',\n",
       " 'the',\n",
       " 'use',\n",
       " 'of',\n",
       " 'particular',\n",
       " 'tools',\n",
       " '(',\n",
       " '``',\n",
       " 'logic',\n",
       " \"''\",\n",
       " 'or',\n",
       " 'artificial',\n",
       " 'neural',\n",
       " 'networks',\n",
       " ')',\n",
       " ',',\n",
       " 'or',\n",
       " 'deep',\n",
       " 'philosophical',\n",
       " 'differences',\n",
       " '.',\n",
       " 'Sub-fields',\n",
       " 'have',\n",
       " 'also',\n",
       " 'been',\n",
       " 'based',\n",
       " 'on',\n",
       " 'social',\n",
       " 'factors',\n",
       " '(',\n",
       " 'particular',\n",
       " 'institutions',\n",
       " 'or',\n",
       " 'the',\n",
       " 'work',\n",
       " 'of',\n",
       " 'particular',\n",
       " 'researchers',\n",
       " ')',\n",
       " '.',\n",
       " 'The',\n",
       " 'traditional',\n",
       " 'problems',\n",
       " '(',\n",
       " 'or',\n",
       " 'goals',\n",
       " ')',\n",
       " 'of',\n",
       " 'AI',\n",
       " 'research',\n",
       " 'include',\n",
       " 'reasoning',\n",
       " ',',\n",
       " 'knowledge',\n",
       " 'representation',\n",
       " ',',\n",
       " 'planning',\n",
       " ',',\n",
       " 'learning',\n",
       " ',',\n",
       " 'natural',\n",
       " 'language',\n",
       " 'processing',\n",
       " ',',\n",
       " 'perception',\n",
       " 'and',\n",
       " 'the',\n",
       " 'ability',\n",
       " 'to',\n",
       " 'move',\n",
       " 'and',\n",
       " 'manipulate',\n",
       " 'objects',\n",
       " '.',\n",
       " 'General',\n",
       " 'intelligence',\n",
       " 'is',\n",
       " 'among',\n",
       " 'the',\n",
       " 'field',\n",
       " \"'s\",\n",
       " 'long-term',\n",
       " 'goals',\n",
       " '.',\n",
       " 'Approaches',\n",
       " 'include',\n",
       " 'statistical',\n",
       " 'methods',\n",
       " ',',\n",
       " 'computational',\n",
       " 'intelligence',\n",
       " ',',\n",
       " 'and',\n",
       " 'traditional',\n",
       " 'symbolic',\n",
       " 'AI',\n",
       " '.',\n",
       " 'Many',\n",
       " 'tools',\n",
       " 'are',\n",
       " 'used',\n",
       " 'in',\n",
       " 'AI',\n",
       " ',',\n",
       " 'including',\n",
       " 'versions',\n",
       " 'of',\n",
       " 'search',\n",
       " 'and',\n",
       " 'mathematical',\n",
       " 'optimization',\n",
       " ',',\n",
       " 'artificial',\n",
       " 'neural',\n",
       " 'networks',\n",
       " ',',\n",
       " 'and',\n",
       " 'methods',\n",
       " 'based',\n",
       " 'on',\n",
       " 'statistics',\n",
       " ',',\n",
       " 'probability',\n",
       " 'and',\n",
       " 'economics',\n",
       " '.',\n",
       " 'The',\n",
       " 'AI',\n",
       " 'field',\n",
       " 'draws',\n",
       " 'upon',\n",
       " 'computer',\n",
       " 'science',\n",
       " ',',\n",
       " 'information',\n",
       " 'engineering',\n",
       " ',',\n",
       " 'mathematics',\n",
       " ',',\n",
       " 'psychology',\n",
       " ',',\n",
       " 'linguistics',\n",
       " ',',\n",
       " 'philosophy',\n",
       " ',',\n",
       " 'and',\n",
       " 'many',\n",
       " 'other',\n",
       " 'fields',\n",
       " '.',\n",
       " 'The',\n",
       " 'field',\n",
       " 'was',\n",
       " 'founded',\n",
       " 'on',\n",
       " 'the',\n",
       " 'assumption',\n",
       " 'that',\n",
       " 'human',\n",
       " 'intelligence',\n",
       " '``',\n",
       " 'can',\n",
       " 'be',\n",
       " 'so',\n",
       " 'precisely',\n",
       " 'described',\n",
       " 'that',\n",
       " 'a',\n",
       " 'machine',\n",
       " 'can',\n",
       " 'be',\n",
       " 'made',\n",
       " 'to',\n",
       " 'simulate',\n",
       " 'it',\n",
       " \"''\",\n",
       " '.',\n",
       " 'This',\n",
       " 'raises',\n",
       " 'philosophical',\n",
       " 'arguments',\n",
       " 'about',\n",
       " 'the',\n",
       " 'nature',\n",
       " 'of',\n",
       " 'the',\n",
       " 'mind',\n",
       " 'and',\n",
       " 'the',\n",
       " 'ethics',\n",
       " 'of',\n",
       " 'creating',\n",
       " 'artificial',\n",
       " 'beings',\n",
       " 'endowed',\n",
       " 'with',\n",
       " 'human-like',\n",
       " 'intelligence',\n",
       " '.',\n",
       " 'These',\n",
       " 'issues',\n",
       " 'have',\n",
       " 'been',\n",
       " 'explored',\n",
       " 'by',\n",
       " 'myth',\n",
       " ',',\n",
       " 'fiction',\n",
       " 'and',\n",
       " 'philosophy',\n",
       " 'since',\n",
       " 'antiquity',\n",
       " '.',\n",
       " 'Some',\n",
       " 'people',\n",
       " 'also',\n",
       " 'consider',\n",
       " 'AI',\n",
       " 'to',\n",
       " 'be',\n",
       " 'a',\n",
       " 'danger',\n",
       " 'to',\n",
       " 'humanity',\n",
       " 'if',\n",
       " 'it',\n",
       " 'progresses',\n",
       " 'unabated',\n",
       " '.',\n",
       " 'Others',\n",
       " 'believe',\n",
       " 'that',\n",
       " 'AI',\n",
       " ',',\n",
       " 'unlike',\n",
       " 'previous',\n",
       " 'technological',\n",
       " 'revolutions',\n",
       " ',',\n",
       " 'will',\n",
       " 'create',\n",
       " 'a',\n",
       " 'risk',\n",
       " 'of',\n",
       " 'mass',\n",
       " 'unemployment',\n",
       " '.',\n",
       " 'In',\n",
       " 'the',\n",
       " 'twenty-first',\n",
       " 'century',\n",
       " ',',\n",
       " 'AI',\n",
       " 'techniques',\n",
       " 'have',\n",
       " 'experienced',\n",
       " 'a',\n",
       " 'resurgence',\n",
       " 'following',\n",
       " 'concurrent',\n",
       " 'advances',\n",
       " 'in',\n",
       " 'computer',\n",
       " 'power',\n",
       " ',',\n",
       " 'large',\n",
       " 'amounts',\n",
       " 'of',\n",
       " 'data',\n",
       " ',',\n",
       " 'and',\n",
       " 'theoretical',\n",
       " 'understanding',\n",
       " ';',\n",
       " 'and',\n",
       " 'AI',\n",
       " 'techniques',\n",
       " 'have',\n",
       " 'become',\n",
       " 'an',\n",
       " 'essential',\n",
       " 'part',\n",
       " 'of',\n",
       " 'the',\n",
       " 'technology',\n",
       " 'industry',\n",
       " ',',\n",
       " 'helping',\n",
       " 'to',\n",
       " 'solve',\n",
       " 'many',\n",
       " 'challenging',\n",
       " 'problems',\n",
       " 'in',\n",
       " 'computer',\n",
       " 'science',\n",
       " ',',\n",
       " 'software',\n",
       " 'engineering',\n",
       " 'and',\n",
       " 'operations',\n",
       " 'research']"
      ]
     },
     "execution_count": 10,
     "metadata": {},
     "output_type": "execute_result"
    }
   ],
   "source": [
    "words = nltk.word_tokenize(paragraph)\n",
    "words"
   ]
  },
  {
   "cell_type": "code",
   "execution_count": 11,
   "metadata": {},
   "outputs": [],
   "source": [
    "from nltk.stem import PorterStemmer\n",
    "from nltk.corpus import stopwords"
   ]
  },
  {
   "cell_type": "code",
   "execution_count": 12,
   "metadata": {},
   "outputs": [
    {
     "data": {
      "text/plain": [
       "['Artificial intelligence was founded as an academic discipline in 1955, and in the years since has experienced several waves of optimism, followed by disappointment and the loss of funding (known as an \"AI winter\"), followed by new approaches, success and renewed funding.',\n",
       " 'For most of its history, AI research has been divided into sub-fields that often fail to communicate with each other.',\n",
       " 'These sub-fields are based on technical considerations, such as particular goals (e.g.',\n",
       " '\"robotics\" or \"machine learning\"), the use of particular tools (\"logic\" or artificial neural networks), or deep philosophical differences.',\n",
       " 'Sub-fields have also been based on social factors (particular institutions or the work of particular researchers).',\n",
       " 'The traditional problems (or goals) of AI research include reasoning, knowledge representation, planning, learning, natural language processing, perception and the ability to move and manipulate objects.',\n",
       " \"General intelligence is among the field's long-term goals.\",\n",
       " 'Approaches include statistical methods, computational intelligence, and traditional symbolic AI.',\n",
       " 'Many tools are used in AI, including versions of search and mathematical optimization, artificial neural networks, and methods based on statistics, probability and economics.',\n",
       " 'The AI field draws upon computer science, information engineering, mathematics, psychology, linguistics, philosophy, and many other fields.',\n",
       " 'The field was founded on the assumption that human intelligence \"can be so precisely described that a machine can be made to simulate it\".',\n",
       " 'This raises philosophical arguments about the nature of the mind and the ethics of creating artificial beings endowed with human-like intelligence.',\n",
       " 'These issues have been explored by myth, fiction and philosophy since antiquity.',\n",
       " 'Some people also consider AI to be a danger to humanity if it progresses unabated.',\n",
       " 'Others believe that AI, unlike previous technological revolutions, will create a risk of mass unemployment.',\n",
       " 'In the twenty-first century, AI techniques have experienced a resurgence following concurrent advances in computer power, large amounts of data, and theoretical understanding; and AI techniques have become an essential part of the technology industry, helping to solve many challenging problems in computer science, software engineering and operations research']"
      ]
     },
     "execution_count": 12,
     "metadata": {},
     "output_type": "execute_result"
    }
   ],
   "source": [
    "sentence = nltk.sent_tokenize(paragraph)\n",
    "sentence"
   ]
  },
  {
   "cell_type": "code",
   "execution_count": 14,
   "metadata": {},
   "outputs": [
    {
     "data": {
      "text/plain": [
       "['artifici intellig found academ disciplin 1955 , year sinc experienc sever wave optim , follow disappoint loss fund ( known `` AI winter `` ) , follow new approach , success renew fund .',\n",
       " 'histori , AI research divid sub-field often fail commun .',\n",
       " 'sub-field base technic consid , particular goal ( e.g .',\n",
       " '`` robot `` `` machin learn `` ) , use particular tool ( `` logic `` artifici neural network ) , deep philosoph differ .',\n",
       " 'sub-field also base social factor ( particular institut work particular research ) .',\n",
       " 'tradit problem ( goal ) AI research includ reason , knowledg repres , plan , learn , natur languag process , percept abil move manipul object .',\n",
       " \"gener intellig among field 's long-term goal .\",\n",
       " 'approach includ statist method , comput intellig , tradit symbol AI .',\n",
       " 'mani tool use AI , includ version search mathemat optim , artifici neural network , method base statist , probabl econom .',\n",
       " 'AI field draw upon comput scienc , inform engin , mathemat , psycholog , linguist , philosophi , mani field .',\n",
       " 'field found assumpt human intellig `` preci describ machin made simul `` .',\n",
       " 'thi rai philosoph argument natur mind ethic creat artifici endow human-lik intellig .',\n",
       " 'issu explor myth , fiction philosophi sinc antiqu .',\n",
       " 'peopl also consid AI danger human progress unab .',\n",
       " 'believ AI , unlik previou technolog revolut , creat risk mass unemploy .',\n",
       " 'In twenty-first centuri , AI techniqu experienc resurg follow concurr advanc comput power , larg amount data , theoret understand ; AI techniqu becom essenti part technolog industri , help solv mani challeng problem comput scienc , softwar engin oper research']"
      ]
     },
     "execution_count": 14,
     "metadata": {},
     "output_type": "execute_result"
    }
   ],
   "source": [
    "#stemming\n",
    "#It's a helping library to making the text simple like go,going,goes can be stemmed to 'go'. I think you can see where I'm going with it.\n",
    "stemmer = PorterStemmer()\n",
    "for i in range(len(sentence)):\n",
    "    words = nltk.word_tokenize(sentence[i])\n",
    "    words = [stemmer.stem(word) for word in words if word not in set(stopwords.words('english'))]\n",
    "    sentence[i]=' '.join(words)\n",
    "sentence"
   ]
  },
  {
   "cell_type": "markdown",
   "metadata": {},
   "source": [
    "### so here you can see, the words has been changed but the meaning is really messed up... so Lemmitization came to light.so Let's have a look at that.."
   ]
  },
  {
   "cell_type": "code",
   "execution_count": 18,
   "metadata": {},
   "outputs": [],
   "source": [
    "#lemitization\n",
    "#It's much better than stemming because it brings the word to the basic form keeping the meaning intact."
   ]
  },
  {
   "cell_type": "code",
   "execution_count": 22,
   "metadata": {},
   "outputs": [
    {
     "data": {
      "text/plain": [
       "['Artificial intelligence was founded as an academic discipline in 1955, and in the years since has experienced several waves of optimism, followed by disappointment and the loss of funding (known as an \"AI winter\"), followed by new approaches, success and renewed funding.',\n",
       " 'For most of its history, AI research has been divided into sub-fields that often fail to communicate with each other.',\n",
       " 'These sub-fields are based on technical considerations, such as particular goals (e.g.',\n",
       " '\"robotics\" or \"machine learning\"), the use of particular tools (\"logic\" or artificial neural networks), or deep philosophical differences.',\n",
       " 'Sub-fields have also been based on social factors (particular institutions or the work of particular researchers).',\n",
       " 'The traditional problems (or goals) of AI research include reasoning, knowledge representation, planning, learning, natural language processing, perception and the ability to move and manipulate objects.',\n",
       " \"General intelligence is among the field's long-term goals.\",\n",
       " 'Approaches include statistical methods, computational intelligence, and traditional symbolic AI.',\n",
       " 'Many tools are used in AI, including versions of search and mathematical optimization, artificial neural networks, and methods based on statistics, probability and economics.',\n",
       " 'The AI field draws upon computer science, information engineering, mathematics, psychology, linguistics, philosophy, and many other fields.',\n",
       " 'The field was founded on the assumption that human intelligence \"can be so precisely described that a machine can be made to simulate it\".',\n",
       " 'This raises philosophical arguments about the nature of the mind and the ethics of creating artificial beings endowed with human-like intelligence.',\n",
       " 'These issues have been explored by myth, fiction and philosophy since antiquity.',\n",
       " 'Some people also consider AI to be a danger to humanity if it progresses unabated.',\n",
       " 'Others believe that AI, unlike previous technological revolutions, will create a risk of mass unemployment.',\n",
       " 'In the twenty-first century, AI techniques have experienced a resurgence following concurrent advances in computer power, large amounts of data, and theoretical understanding; and AI techniques have become an essential part of the technology industry, helping to solve many challenging problems in computer science, software engineering and operations research']"
      ]
     },
     "execution_count": 22,
     "metadata": {},
     "output_type": "execute_result"
    }
   ],
   "source": [
    "from nltk.stem import WordNetLemmatizer\n",
    "from nltk.corpus import stopwords\n",
    "sentence = nltk.sent_tokenize(paragraph)\n",
    "sentence"
   ]
  },
  {
   "cell_type": "code",
   "execution_count": 23,
   "metadata": {},
   "outputs": [
    {
     "data": {
      "text/plain": [
       "[\"Artificial intelligence founded academic discipline 1955 , year since experienced several wave optimism , followed disappointment loss funding ( known `` AI winter '' ) , followed new approach , success renewed funding .\",\n",
       " 'For history , AI research divided sub-fields often fail communicate .',\n",
       " 'These sub-fields based technical consideration , particular goal ( e.g .',\n",
       " \"`` robotics '' `` machine learning '' ) , use particular tool ( `` logic '' artificial neural network ) , deep philosophical difference .\",\n",
       " 'Sub-fields also based social factor ( particular institution work particular researcher ) .',\n",
       " 'The traditional problem ( goal ) AI research include reasoning , knowledge representation , planning , learning , natural language processing , perception ability move manipulate object .',\n",
       " \"General intelligence among field 's long-term goal .\",\n",
       " 'Approaches include statistical method , computational intelligence , traditional symbolic AI .',\n",
       " 'Many tool used AI , including version search mathematical optimization , artificial neural network , method based statistic , probability economics .',\n",
       " 'The AI field draw upon computer science , information engineering , mathematics , psychology , linguistics , philosophy , many field .',\n",
       " \"The field founded assumption human intelligence `` precisely described machine made simulate '' .\",\n",
       " 'This raise philosophical argument nature mind ethic creating artificial being endowed human-like intelligence .',\n",
       " 'These issue explored myth , fiction philosophy since antiquity .',\n",
       " 'Some people also consider AI danger humanity progress unabated .',\n",
       " 'Others believe AI , unlike previous technological revolution , create risk mass unemployment .',\n",
       " 'In twenty-first century , AI technique experienced resurgence following concurrent advance computer power , large amount data , theoretical understanding ; AI technique become essential part technology industry , helping solve many challenging problem computer science , software engineering operation research']"
      ]
     },
     "execution_count": 23,
     "metadata": {},
     "output_type": "execute_result"
    }
   ],
   "source": [
    "lemmatizer = WordNetLemmatizer()\n",
    "for i in range(len(sentence)):\n",
    "    words = nltk.word_tokenize(sentence[i])\n",
    "    words = [lemmatizer.lemmatize(word) for word in words if word not in set(stopwords.words('english'))]\n",
    "    sentence[i]=' '.join(words)\n",
    "sentence"
   ]
  },
  {
   "cell_type": "markdown",
   "metadata": {},
   "source": [
    "### As you can see now our text is filtered without stopwords and the words are also meaningful unlike last method."
   ]
  },
  {
   "cell_type": "markdown",
   "metadata": {},
   "source": [
    "# So let's have a look at another technique \"Bag of words\""
   ]
  },
  {
   "cell_type": "markdown",
   "metadata": {},
   "source": [
    "### Here are some sentences\n",
    "\n",
    "    The restaurant is good but ambience is not what I expected after looking at the given photos.\n",
    "    He is a nice guy, I have known him from four years\n",
    "    What rubbish, This is not even a web series and they call it movie!!!"
   ]
  },
  {
   "cell_type": "markdown",
   "metadata": {},
   "source": [
    "### Let's stick to our paragraph"
   ]
  },
  {
   "cell_type": "code",
   "execution_count": 26,
   "metadata": {},
   "outputs": [
    {
     "data": {
      "text/plain": [
       "'Artificial intelligence was founded as an academic discipline in 1955, and in the years since has experienced several waves of optimism, followed by disappointment and the loss of funding (known as an \"AI winter\"), followed by new approaches, success and renewed funding. For most of its history, AI research has been divided into sub-fields that often fail to communicate with each other. These sub-fields are based on technical considerations, such as particular goals (e.g. \"robotics\" or \"machine learning\"), the use of particular tools (\"logic\" or artificial neural networks), or deep philosophical differences. Sub-fields have also been based on social factors (particular institutions or the work of particular researchers).\\n\\nThe traditional problems (or goals) of AI research include reasoning, knowledge representation, planning, learning, natural language processing, perception and the ability to move and manipulate objects. General intelligence is among the field\\'s long-term goals. Approaches include statistical methods, computational intelligence, and traditional symbolic AI. Many tools are used in AI, including versions of search and mathematical optimization, artificial neural networks, and methods based on statistics, probability and economics. The AI field draws upon computer science, information engineering, mathematics, psychology, linguistics, philosophy, and many other fields.\\n\\nThe field was founded on the assumption that human intelligence \"can be so precisely described that a machine can be made to simulate it\". This raises philosophical arguments about the nature of the mind and the ethics of creating artificial beings endowed with human-like intelligence. These issues have been explored by myth, fiction and philosophy since antiquity. Some people also consider AI to be a danger to humanity if it progresses unabated. Others believe that AI, unlike previous technological revolutions, will create a risk of mass unemployment.\\n\\nIn the twenty-first century, AI techniques have experienced a resurgence following concurrent advances in computer power, large amounts of data, and theoretical understanding; and AI techniques have become an essential part of the technology industry, helping to solve many challenging problems in computer science, software engineering and operations research'"
      ]
     },
     "execution_count": 26,
     "metadata": {},
     "output_type": "execute_result"
    }
   ],
   "source": [
    "import nltk\n",
    "paragraph"
   ]
  },
  {
   "cell_type": "code",
   "execution_count": 27,
   "metadata": {},
   "outputs": [],
   "source": [
    "### Let's clean little bit"
   ]
  },
  {
   "cell_type": "code",
   "execution_count": 32,
   "metadata": {},
   "outputs": [],
   "source": [
    "import re\n",
    "from nltk.corpus import stopwords\n",
    "from nltk.stem import WordNetLemmatizer\n",
    "from nltk.stem import PorterStemmer\n",
    "\n",
    "ps = PorterStemmer()\n",
    "lem = WordNetLemmatizer()\n",
    "sentences = nltk.sent_tokenize(paragraph)\n",
    "corpus = []\n",
    "for i in range(len(sentences)):\n",
    "    sent = re.sub('[^a-zA-Z]',' ',sentences[i])\n",
    "    sent = sent.lower()\n",
    "    sent = sent.split()\n",
    "#     sent = [ps.stem(word)for word in sent if not word  in set(stopwords.words('english'))]\n",
    "    sent = [lem.lemmatize(word)for word in sent if not word  in set(stopwords.words('english'))]\n",
    "    sent = ' '.join(sent)\n",
    "    corpus.append(sent)"
   ]
  },
  {
   "cell_type": "code",
   "execution_count": 33,
   "metadata": {},
   "outputs": [
    {
     "data": {
      "text/plain": [
       "['artificial intelligence founded academic discipline year since experienced several wave optimism followed disappointment loss funding known ai winter followed new approach success renewed funding',\n",
       " 'history ai research divided sub field often fail communicate',\n",
       " 'sub field based technical consideration particular goal e g',\n",
       " 'robotics machine learning use particular tool logic artificial neural network deep philosophical difference',\n",
       " 'sub field also based social factor particular institution work particular researcher',\n",
       " 'traditional problem goal ai research include reasoning knowledge representation planning learning natural language processing perception ability move manipulate object',\n",
       " 'general intelligence among field long term goal',\n",
       " 'approach include statistical method computational intelligence traditional symbolic ai',\n",
       " 'many tool used ai including version search mathematical optimization artificial neural network method based statistic probability economics',\n",
       " 'ai field draw upon computer science information engineering mathematics psychology linguistics philosophy many field',\n",
       " 'field founded assumption human intelligence precisely described machine made simulate',\n",
       " 'raise philosophical argument nature mind ethic creating artificial being endowed human like intelligence',\n",
       " 'issue explored myth fiction philosophy since antiquity',\n",
       " 'people also consider ai danger humanity progress unabated',\n",
       " 'others believe ai unlike previous technological revolution create risk mass unemployment',\n",
       " 'twenty first century ai technique experienced resurgence following concurrent advance computer power large amount data theoretical understanding ai technique become essential part technology industry helping solve many challenging problem computer science software engineering operation research']"
      ]
     },
     "execution_count": 33,
     "metadata": {},
     "output_type": "execute_result"
    }
   ],
   "source": [
    "corpus"
   ]
  },
  {
   "cell_type": "code",
   "execution_count": null,
   "metadata": {},
   "outputs": [],
   "source": []
  },
  {
   "cell_type": "markdown",
   "metadata": {},
   "source": [
    "### Let's prepare the Bag of words model"
   ]
  },
  {
   "cell_type": "code",
   "execution_count": 34,
   "metadata": {},
   "outputs": [],
   "source": [
    "from sklearn.feature_extraction.text import CountVectorizer\n",
    "cv = CountVectorizer(max_features=2000)\n",
    "X = cv.fit_transform(corpus).toarray()"
   ]
  },
  {
   "cell_type": "code",
   "execution_count": 37,
   "metadata": {},
   "outputs": [
    {
     "data": {
      "text/plain": [
       "(16, 155)"
      ]
     },
     "execution_count": 37,
     "metadata": {},
     "output_type": "execute_result"
    }
   ],
   "source": [
    "X.shape"
   ]
  },
  {
   "cell_type": "code",
   "execution_count": 38,
   "metadata": {},
   "outputs": [
    {
     "data": {
      "text/plain": [
       "array([[0, 1, 0, ..., 1, 0, 1],\n",
       "       [0, 0, 0, ..., 0, 0, 0],\n",
       "       [0, 0, 0, ..., 0, 0, 0],\n",
       "       ...,\n",
       "       [0, 0, 0, ..., 0, 0, 0],\n",
       "       [0, 0, 0, ..., 0, 0, 0],\n",
       "       [0, 0, 1, ..., 0, 0, 0]])"
      ]
     },
     "execution_count": 38,
     "metadata": {},
     "output_type": "execute_result"
    }
   ],
   "source": [
    "X"
   ]
  },
  {
   "cell_type": "markdown",
   "metadata": {},
   "source": [
    "#### Transformation has been done and the words are tokenized by 0s and 1s"
   ]
  },
  {
   "cell_type": "markdown",
   "metadata": {},
   "source": [
    "### But we have a better tokenizer, \"TF-IDF\" let's see then!!\n",
    "\n",
    "    It stands for Term frequency and Inverse Document Frequency\n",
    "    Which provides some importance to semantics remember that\n"
   ]
  },
  {
   "cell_type": "code",
   "execution_count": 39,
   "metadata": {},
   "outputs": [],
   "source": [
    "from sklearn.feature_extraction.text import TfidfVectorizer\n",
    "cv = TfidfVectorizer(max_features=2000)\n",
    "X = cv.fit_transform(corpus).toarray()"
   ]
  },
  {
   "cell_type": "code",
   "execution_count": 40,
   "metadata": {},
   "outputs": [
    {
     "data": {
      "text/plain": [
       "array([[0.        , 0.19922255, 0.        , ..., 0.19922255, 0.        ,\n",
       "        0.19922255],\n",
       "       [0.        , 0.        , 0.        , ..., 0.        , 0.        ,\n",
       "        0.        ],\n",
       "       [0.        , 0.        , 0.        , ..., 0.        , 0.        ,\n",
       "        0.        ],\n",
       "       ...,\n",
       "       [0.        , 0.        , 0.        , ..., 0.        , 0.        ,\n",
       "        0.        ],\n",
       "       [0.        , 0.        , 0.        , ..., 0.        , 0.        ,\n",
       "        0.        ],\n",
       "       [0.        , 0.        , 0.16847272, ..., 0.        , 0.        ,\n",
       "        0.        ]])"
      ]
     },
     "execution_count": 40,
     "metadata": {},
     "output_type": "execute_result"
    }
   ],
   "source": [
    "X"
   ]
  },
  {
   "cell_type": "code",
   "execution_count": 41,
   "metadata": {},
   "outputs": [
    {
     "data": {
      "text/plain": [
       "(16, 155)"
      ]
     },
     "execution_count": 41,
     "metadata": {},
     "output_type": "execute_result"
    }
   ],
   "source": [
    "X.shape"
   ]
  },
  {
   "cell_type": "markdown",
   "metadata": {},
   "source": [
    "### as you can see it's no more 1s and 0s as per the word it assigned some values as per the importance"
   ]
  },
  {
   "cell_type": "markdown",
   "metadata": {},
   "source": [
    "# Let's see another technique for NLP problems which is Word2Vec...so let's start\n",
    "    to overcome the problems like over fitting  and semantic relationship this is the algo we use\n",
    "    "
   ]
  },
  {
   "cell_type": "markdown",
   "metadata": {},
   "source": [
    "## Steps to implement\n",
    "    1.Tokenization of sentences\n",
    "    2.Create Histogram\n",
    "    3.Take most frequent words\n",
    "    4Create matrix of unique words among them to show occurence\n",
    "    "
   ]
  },
  {
   "cell_type": "code",
   "execution_count": 43,
   "metadata": {},
   "outputs": [
    {
     "data": {
      "text/plain": [
       "'Artificial intelligence was founded as an academic discipline in 1955, and in the years since has experienced several waves of optimism, followed by disappointment and the loss of funding (known as an \"AI winter\"), followed by new approaches, success and renewed funding. For most of its history, AI research has been divided into sub-fields that often fail to communicate with each other. These sub-fields are based on technical considerations, such as particular goals (e.g. \"robotics\" or \"machine learning\"), the use of particular tools (\"logic\" or artificial neural networks), or deep philosophical differences. Sub-fields have also been based on social factors (particular institutions or the work of particular researchers).\\n\\nThe traditional problems (or goals) of AI research include reasoning, knowledge representation, planning, learning, natural language processing, perception and the ability to move and manipulate objects. General intelligence is among the field\\'s long-term goals. Approaches include statistical methods, computational intelligence, and traditional symbolic AI. Many tools are used in AI, including versions of search and mathematical optimization, artificial neural networks, and methods based on statistics, probability and economics. The AI field draws upon computer science, information engineering, mathematics, psychology, linguistics, philosophy, and many other fields.\\n\\nThe field was founded on the assumption that human intelligence \"can be so precisely described that a machine can be made to simulate it\". This raises philosophical arguments about the nature of the mind and the ethics of creating artificial beings endowed with human-like intelligence. These issues have been explored by myth, fiction and philosophy since antiquity. Some people also consider AI to be a danger to humanity if it progresses unabated. Others believe that AI, unlike previous technological revolutions, will create a risk of mass unemployment.\\n\\nIn the twenty-first century, AI techniques have experienced a resurgence following concurrent advances in computer power, large amounts of data, and theoretical understanding; and AI techniques have become an essential part of the technology industry, helping to solve many challenging problems in computer science, software engineering and operations research'"
      ]
     },
     "execution_count": 43,
     "metadata": {},
     "output_type": "execute_result"
    }
   ],
   "source": [
    "paragraph"
   ]
  },
  {
   "cell_type": "code",
   "execution_count": 46,
   "metadata": {},
   "outputs": [],
   "source": [
    "from gensim.models import Word2Vec"
   ]
  },
  {
   "cell_type": "code",
   "execution_count": 47,
   "metadata": {},
   "outputs": [],
   "source": [
    "text = re.sub(r'\\[[0-9]*\\]',' ',paragraph)\n",
    "text = re.sub(r'\\s+',' ',text)\n",
    "text = text.lower()\n",
    "text = re.sub(r'\\d',' ',text)\n",
    "text = re.sub(r'\\s+',' ',text)"
   ]
  },
  {
   "cell_type": "code",
   "execution_count": 49,
   "metadata": {},
   "outputs": [],
   "source": [
    "sentences = nltk.sent_tokenize(text)\n",
    "sentences = [nltk.word_tokenize(sentence) for sentence in sentences ]\n",
    "\n",
    "for i in range(len(sentences)):\n",
    "    sentences[i] = [word for word in sentences[i] if word not in stopwords.words('english') ] "
   ]
  },
  {
   "cell_type": "code",
   "execution_count": 52,
   "metadata": {},
   "outputs": [
    {
     "data": {
      "text/plain": [
       "{'artificial': <gensim.models.keyedvectors.Vocab at 0x132a1d590>,\n",
       " 'intelligence': <gensim.models.keyedvectors.Vocab at 0x132a1d290>,\n",
       " 'founded': <gensim.models.keyedvectors.Vocab at 0x132a1d890>,\n",
       " 'academic': <gensim.models.keyedvectors.Vocab at 0x132a1db10>,\n",
       " 'discipline': <gensim.models.keyedvectors.Vocab at 0x132a1dcd0>,\n",
       " ',': <gensim.models.keyedvectors.Vocab at 0x132a1de50>,\n",
       " 'years': <gensim.models.keyedvectors.Vocab at 0x1329853d0>,\n",
       " 'since': <gensim.models.keyedvectors.Vocab at 0x1329850d0>,\n",
       " 'experienced': <gensim.models.keyedvectors.Vocab at 0x132a1da90>,\n",
       " 'several': <gensim.models.keyedvectors.Vocab at 0x132a1d990>,\n",
       " 'waves': <gensim.models.keyedvectors.Vocab at 0x132985110>,\n",
       " 'optimism': <gensim.models.keyedvectors.Vocab at 0x132985050>,\n",
       " 'followed': <gensim.models.keyedvectors.Vocab at 0x130a7dc10>,\n",
       " 'disappointment': <gensim.models.keyedvectors.Vocab at 0x130a7d7d0>,\n",
       " 'loss': <gensim.models.keyedvectors.Vocab at 0x130a7d550>,\n",
       " 'funding': <gensim.models.keyedvectors.Vocab at 0x1315353d0>,\n",
       " '(': <gensim.models.keyedvectors.Vocab at 0x131535c90>,\n",
       " 'known': <gensim.models.keyedvectors.Vocab at 0x131535790>,\n",
       " '``': <gensim.models.keyedvectors.Vocab at 0x10acbc1d0>,\n",
       " 'ai': <gensim.models.keyedvectors.Vocab at 0x131672e90>,\n",
       " 'winter': <gensim.models.keyedvectors.Vocab at 0x130a6e810>,\n",
       " \"''\": <gensim.models.keyedvectors.Vocab at 0x130a6e890>,\n",
       " ')': <gensim.models.keyedvectors.Vocab at 0x130a6e090>,\n",
       " 'new': <gensim.models.keyedvectors.Vocab at 0x130a6ec50>,\n",
       " 'approaches': <gensim.models.keyedvectors.Vocab at 0x130a05250>,\n",
       " 'success': <gensim.models.keyedvectors.Vocab at 0x130a05750>,\n",
       " 'renewed': <gensim.models.keyedvectors.Vocab at 0x130a05350>,\n",
       " '.': <gensim.models.keyedvectors.Vocab at 0x130a053d0>,\n",
       " 'history': <gensim.models.keyedvectors.Vocab at 0x130a05050>,\n",
       " 'research': <gensim.models.keyedvectors.Vocab at 0x132a0cc50>,\n",
       " 'divided': <gensim.models.keyedvectors.Vocab at 0x132a0c4d0>,\n",
       " 'sub-fields': <gensim.models.keyedvectors.Vocab at 0x132a0c650>,\n",
       " 'often': <gensim.models.keyedvectors.Vocab at 0x132a0c990>,\n",
       " 'fail': <gensim.models.keyedvectors.Vocab at 0x130ab2790>,\n",
       " 'communicate': <gensim.models.keyedvectors.Vocab at 0x130ab2a10>,\n",
       " 'based': <gensim.models.keyedvectors.Vocab at 0x130ab2250>,\n",
       " 'technical': <gensim.models.keyedvectors.Vocab at 0x130ab2150>,\n",
       " 'considerations': <gensim.models.keyedvectors.Vocab at 0x130ab2b90>,\n",
       " 'particular': <gensim.models.keyedvectors.Vocab at 0x130ab2d10>,\n",
       " 'goals': <gensim.models.keyedvectors.Vocab at 0x130ab2990>,\n",
       " 'e.g': <gensim.models.keyedvectors.Vocab at 0x130ab2410>,\n",
       " 'robotics': <gensim.models.keyedvectors.Vocab at 0x130a3e550>,\n",
       " 'machine': <gensim.models.keyedvectors.Vocab at 0x130a61ad0>,\n",
       " 'learning': <gensim.models.keyedvectors.Vocab at 0x130a61810>,\n",
       " 'use': <gensim.models.keyedvectors.Vocab at 0x130a61350>,\n",
       " 'tools': <gensim.models.keyedvectors.Vocab at 0x130a610d0>,\n",
       " 'logic': <gensim.models.keyedvectors.Vocab at 0x130a17b10>,\n",
       " 'neural': <gensim.models.keyedvectors.Vocab at 0x130a17c90>,\n",
       " 'networks': <gensim.models.keyedvectors.Vocab at 0x130a17850>,\n",
       " 'deep': <gensim.models.keyedvectors.Vocab at 0x130a17550>,\n",
       " 'philosophical': <gensim.models.keyedvectors.Vocab at 0x130a17e50>,\n",
       " 'differences': <gensim.models.keyedvectors.Vocab at 0x130a0ec90>,\n",
       " 'also': <gensim.models.keyedvectors.Vocab at 0x130a0e310>,\n",
       " 'social': <gensim.models.keyedvectors.Vocab at 0x1323ef0d0>,\n",
       " 'factors': <gensim.models.keyedvectors.Vocab at 0x1323ef2d0>,\n",
       " 'institutions': <gensim.models.keyedvectors.Vocab at 0x131545e50>,\n",
       " 'work': <gensim.models.keyedvectors.Vocab at 0x131545950>,\n",
       " 'researchers': <gensim.models.keyedvectors.Vocab at 0x1315455d0>,\n",
       " 'traditional': <gensim.models.keyedvectors.Vocab at 0x131545d90>,\n",
       " 'problems': <gensim.models.keyedvectors.Vocab at 0x1315451d0>,\n",
       " 'include': <gensim.models.keyedvectors.Vocab at 0x130a5d210>,\n",
       " 'reasoning': <gensim.models.keyedvectors.Vocab at 0x130a5d090>,\n",
       " 'knowledge': <gensim.models.keyedvectors.Vocab at 0x12e9b4a90>,\n",
       " 'representation': <gensim.models.keyedvectors.Vocab at 0x131929390>,\n",
       " 'planning': <gensim.models.keyedvectors.Vocab at 0x132a1dd50>,\n",
       " 'natural': <gensim.models.keyedvectors.Vocab at 0x132a0e350>,\n",
       " 'language': <gensim.models.keyedvectors.Vocab at 0x132a0e4d0>,\n",
       " 'processing': <gensim.models.keyedvectors.Vocab at 0x132204790>,\n",
       " 'perception': <gensim.models.keyedvectors.Vocab at 0x132204910>,\n",
       " 'ability': <gensim.models.keyedvectors.Vocab at 0x132985810>,\n",
       " 'move': <gensim.models.keyedvectors.Vocab at 0x132985d10>,\n",
       " 'manipulate': <gensim.models.keyedvectors.Vocab at 0x132985b50>,\n",
       " 'objects': <gensim.models.keyedvectors.Vocab at 0x1329852d0>,\n",
       " 'general': <gensim.models.keyedvectors.Vocab at 0x132985650>,\n",
       " 'among': <gensim.models.keyedvectors.Vocab at 0x132985890>,\n",
       " 'field': <gensim.models.keyedvectors.Vocab at 0x132976f90>,\n",
       " \"'s\": <gensim.models.keyedvectors.Vocab at 0x1313dd450>,\n",
       " 'long-term': <gensim.models.keyedvectors.Vocab at 0x132998d90>,\n",
       " 'statistical': <gensim.models.keyedvectors.Vocab at 0x132998310>,\n",
       " 'methods': <gensim.models.keyedvectors.Vocab at 0x132998890>,\n",
       " 'computational': <gensim.models.keyedvectors.Vocab at 0x132998d10>,\n",
       " 'symbolic': <gensim.models.keyedvectors.Vocab at 0x1329982d0>,\n",
       " 'many': <gensim.models.keyedvectors.Vocab at 0x132998c10>,\n",
       " 'used': <gensim.models.keyedvectors.Vocab at 0x132998750>,\n",
       " 'including': <gensim.models.keyedvectors.Vocab at 0x1329aac10>,\n",
       " 'versions': <gensim.models.keyedvectors.Vocab at 0x1329aa550>,\n",
       " 'search': <gensim.models.keyedvectors.Vocab at 0x1329aa9d0>,\n",
       " 'mathematical': <gensim.models.keyedvectors.Vocab at 0x1329aa910>,\n",
       " 'optimization': <gensim.models.keyedvectors.Vocab at 0x1329aa090>,\n",
       " 'statistics': <gensim.models.keyedvectors.Vocab at 0x130a77790>,\n",
       " 'probability': <gensim.models.keyedvectors.Vocab at 0x130a77c50>,\n",
       " 'economics': <gensim.models.keyedvectors.Vocab at 0x130a77910>,\n",
       " 'draws': <gensim.models.keyedvectors.Vocab at 0x130a77590>,\n",
       " 'upon': <gensim.models.keyedvectors.Vocab at 0x130a77dd0>,\n",
       " 'computer': <gensim.models.keyedvectors.Vocab at 0x130a77750>,\n",
       " 'science': <gensim.models.keyedvectors.Vocab at 0x130a772d0>,\n",
       " 'information': <gensim.models.keyedvectors.Vocab at 0x130a77490>,\n",
       " 'engineering': <gensim.models.keyedvectors.Vocab at 0x130a77d90>,\n",
       " 'mathematics': <gensim.models.keyedvectors.Vocab at 0x130a77b10>,\n",
       " 'psychology': <gensim.models.keyedvectors.Vocab at 0x130a77350>,\n",
       " 'linguistics': <gensim.models.keyedvectors.Vocab at 0x130a77390>,\n",
       " 'philosophy': <gensim.models.keyedvectors.Vocab at 0x130a77ed0>,\n",
       " 'fields': <gensim.models.keyedvectors.Vocab at 0x130a776d0>,\n",
       " 'assumption': <gensim.models.keyedvectors.Vocab at 0x132980710>,\n",
       " 'human': <gensim.models.keyedvectors.Vocab at 0x132980bd0>,\n",
       " 'precisely': <gensim.models.keyedvectors.Vocab at 0x132980c50>,\n",
       " 'described': <gensim.models.keyedvectors.Vocab at 0x132980f90>,\n",
       " 'made': <gensim.models.keyedvectors.Vocab at 0x132980a50>,\n",
       " 'simulate': <gensim.models.keyedvectors.Vocab at 0x1329802d0>,\n",
       " 'raises': <gensim.models.keyedvectors.Vocab at 0x132980910>,\n",
       " 'arguments': <gensim.models.keyedvectors.Vocab at 0x132972050>,\n",
       " 'nature': <gensim.models.keyedvectors.Vocab at 0x1329720d0>,\n",
       " 'mind': <gensim.models.keyedvectors.Vocab at 0x132972190>,\n",
       " 'ethics': <gensim.models.keyedvectors.Vocab at 0x132972410>,\n",
       " 'creating': <gensim.models.keyedvectors.Vocab at 0x132972390>,\n",
       " 'beings': <gensim.models.keyedvectors.Vocab at 0x132972f50>,\n",
       " 'endowed': <gensim.models.keyedvectors.Vocab at 0x132972990>,\n",
       " 'human-like': <gensim.models.keyedvectors.Vocab at 0x132972850>,\n",
       " 'issues': <gensim.models.keyedvectors.Vocab at 0x1329725d0>,\n",
       " 'explored': <gensim.models.keyedvectors.Vocab at 0x132972e10>,\n",
       " 'myth': <gensim.models.keyedvectors.Vocab at 0x132994090>,\n",
       " 'fiction': <gensim.models.keyedvectors.Vocab at 0x132994290>,\n",
       " 'antiquity': <gensim.models.keyedvectors.Vocab at 0x1329947d0>,\n",
       " 'people': <gensim.models.keyedvectors.Vocab at 0x132994610>,\n",
       " 'consider': <gensim.models.keyedvectors.Vocab at 0x132994490>,\n",
       " 'danger': <gensim.models.keyedvectors.Vocab at 0x132994310>,\n",
       " 'humanity': <gensim.models.keyedvectors.Vocab at 0x132994890>,\n",
       " 'progresses': <gensim.models.keyedvectors.Vocab at 0x132994a50>,\n",
       " 'unabated': <gensim.models.keyedvectors.Vocab at 0x132994910>,\n",
       " 'others': <gensim.models.keyedvectors.Vocab at 0x132994d10>,\n",
       " 'believe': <gensim.models.keyedvectors.Vocab at 0x132994c90>,\n",
       " 'unlike': <gensim.models.keyedvectors.Vocab at 0x132994dd0>,\n",
       " 'previous': <gensim.models.keyedvectors.Vocab at 0x132994f50>,\n",
       " 'technological': <gensim.models.keyedvectors.Vocab at 0x132994cd0>,\n",
       " 'revolutions': <gensim.models.keyedvectors.Vocab at 0x1329781d0>,\n",
       " 'create': <gensim.models.keyedvectors.Vocab at 0x132978190>,\n",
       " 'risk': <gensim.models.keyedvectors.Vocab at 0x132978490>,\n",
       " 'mass': <gensim.models.keyedvectors.Vocab at 0x132978750>,\n",
       " 'unemployment': <gensim.models.keyedvectors.Vocab at 0x1329780d0>,\n",
       " 'twenty-first': <gensim.models.keyedvectors.Vocab at 0x132978450>,\n",
       " 'century': <gensim.models.keyedvectors.Vocab at 0x132978390>,\n",
       " 'techniques': <gensim.models.keyedvectors.Vocab at 0x132978650>,\n",
       " 'resurgence': <gensim.models.keyedvectors.Vocab at 0x132978050>,\n",
       " 'following': <gensim.models.keyedvectors.Vocab at 0x132978ed0>,\n",
       " 'concurrent': <gensim.models.keyedvectors.Vocab at 0x132978c10>,\n",
       " 'advances': <gensim.models.keyedvectors.Vocab at 0x1329789d0>,\n",
       " 'power': <gensim.models.keyedvectors.Vocab at 0x132995210>,\n",
       " 'large': <gensim.models.keyedvectors.Vocab at 0x132995350>,\n",
       " 'amounts': <gensim.models.keyedvectors.Vocab at 0x1329951d0>,\n",
       " 'data': <gensim.models.keyedvectors.Vocab at 0x1329950d0>,\n",
       " 'theoretical': <gensim.models.keyedvectors.Vocab at 0x132995510>,\n",
       " 'understanding': <gensim.models.keyedvectors.Vocab at 0x132995790>,\n",
       " ';': <gensim.models.keyedvectors.Vocab at 0x132995710>,\n",
       " 'become': <gensim.models.keyedvectors.Vocab at 0x132995950>,\n",
       " 'essential': <gensim.models.keyedvectors.Vocab at 0x132995bd0>,\n",
       " 'part': <gensim.models.keyedvectors.Vocab at 0x132995ad0>,\n",
       " 'technology': <gensim.models.keyedvectors.Vocab at 0x132995f50>,\n",
       " 'industry': <gensim.models.keyedvectors.Vocab at 0x132995dd0>,\n",
       " 'helping': <gensim.models.keyedvectors.Vocab at 0x1329959d0>,\n",
       " 'solve': <gensim.models.keyedvectors.Vocab at 0x132995610>,\n",
       " 'challenging': <gensim.models.keyedvectors.Vocab at 0x13299a090>,\n",
       " 'software': <gensim.models.keyedvectors.Vocab at 0x13299a0d0>,\n",
       " 'operations': <gensim.models.keyedvectors.Vocab at 0x13299a150>}"
      ]
     },
     "execution_count": 52,
     "metadata": {},
     "output_type": "execute_result"
    }
   ],
   "source": [
    "model = Word2Vec(sentences, min_count=1)\n",
    "words = model.wv.vocab\n",
    "words"
   ]
  },
  {
   "cell_type": "code",
   "execution_count": null,
   "metadata": {},
   "outputs": [],
   "source": []
  },
  {
   "cell_type": "code",
   "execution_count": 57,
   "metadata": {},
   "outputs": [
    {
     "data": {
      "text/plain": [
       "array([-0.00059674, -0.0023225 ,  0.00282881,  0.0028361 , -0.00180207,\n",
       "       -0.00135479, -0.00242846,  0.00189189, -0.00209969, -0.00050475,\n",
       "        0.00244031, -0.0024922 ,  0.00234215,  0.00284418, -0.0036573 ,\n",
       "       -0.00206679,  0.00439267, -0.00486684, -0.00092111, -0.00266678,\n",
       "       -0.00116911,  0.00320012, -0.00154347, -0.00386344, -0.00075392,\n",
       "        0.00196953, -0.00374049,  0.00099281, -0.00490859,  0.00198972,\n",
       "        0.00041007,  0.00164052, -0.00060608,  0.00492603, -0.00300042,\n",
       "       -0.00129512, -0.00299917,  0.00136607, -0.00407263, -0.00035963,\n",
       "       -0.00179785, -0.00445914,  0.00170708,  0.00104982, -0.00453868,\n",
       "       -0.00265653, -0.00104688,  0.00402564,  0.00390426, -0.00124007,\n",
       "       -0.00453309, -0.00383078,  0.00135682,  0.00257015, -0.00190145,\n",
       "       -0.00322209, -0.00259304,  0.00300988,  0.002559  , -0.00345029,\n",
       "        0.0001245 , -0.00204451, -0.00166864, -0.00350586, -0.00300764,\n",
       "       -0.00130453,  0.00387502, -0.00023779, -0.00216413,  0.00483763,\n",
       "        0.00263271,  0.00035548,  0.00240632, -0.00070858,  0.00437075,\n",
       "       -0.0032182 ,  0.00495321, -0.00392526, -0.00016259,  0.00293235,\n",
       "       -0.00430515,  0.00437824,  0.00030868,  0.00323904,  0.00485295,\n",
       "       -0.00202801,  0.0024703 ,  0.00322595,  0.00117187,  0.00210814,\n",
       "       -0.00234471, -0.00437897,  0.00470222,  0.00248984, -0.00453482,\n",
       "        0.00374384,  0.00283705, -0.00345566,  0.00014629, -0.00112489],\n",
       "      dtype=float32)"
      ]
     },
     "execution_count": 57,
     "metadata": {},
     "output_type": "execute_result"
    }
   ],
   "source": [
    "# we can search the word vector now\n",
    "vector = model.wv['data']\n",
    "vector"
   ]
  },
  {
   "cell_type": "code",
   "execution_count": 58,
   "metadata": {},
   "outputs": [
    {
     "data": {
      "text/plain": [
       "[('used', 0.2500048875808716),\n",
       " ('particular', 0.22659029066562653),\n",
       " ('draws', 0.21111172437667847),\n",
       " ('amounts', 0.20780174434185028),\n",
       " ('logic', 0.2072584629058838),\n",
       " ('operations', 0.20311641693115234),\n",
       " ('waves', 0.2011653631925583),\n",
       " (')', 0.20080935955047607),\n",
       " ('search', 0.19241231679916382),\n",
       " ('believe', 0.1884279102087021)]"
      ]
     },
     "execution_count": 58,
     "metadata": {},
     "output_type": "execute_result"
    }
   ],
   "source": [
    "#let's find the most similar word\n",
    "sim_word = model.wv.most_similar('data')\n",
    "sim_word"
   ]
  },
  {
   "cell_type": "code",
   "execution_count": null,
   "metadata": {},
   "outputs": [],
   "source": []
  }
 ],
 "metadata": {
  "kernelspec": {
   "display_name": "Python 3",
   "language": "python",
   "name": "python3"
  },
  "language_info": {
   "codemirror_mode": {
    "name": "ipython",
    "version": 3
   },
   "file_extension": ".py",
   "mimetype": "text/x-python",
   "name": "python",
   "nbconvert_exporter": "python",
   "pygments_lexer": "ipython3",
   "version": "3.7.4"
  }
 },
 "nbformat": 4,
 "nbformat_minor": 2
}
